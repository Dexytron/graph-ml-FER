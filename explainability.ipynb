{
 "cells": [
  {
   "cell_type": "code",
   "id": "initial_id",
   "metadata": {
    "collapsed": true,
    "ExecuteTime": {
     "end_time": "2024-06-29T23:44:26.608656Z",
     "start_time": "2024-06-29T23:44:26.604341Z"
    }
   },
   "source": [
    "import torch\n",
    "import pickle\n",
    "import numpy as np\n",
    "import networkx as nx\n",
    "import torch.nn.functional as F\n",
    "from torch_geometric.nn import global_mean_pool, GINConv, GATConv\n",
    "from torch_geometric.explain import Explainer, GNNExplainer\n",
    "from torch_geometric.loader import DataLoader\n",
    "import seaborn as sns\n",
    "import matplotlib.pyplot as plt\n",
    "from sklearn.metrics import confusion_matrix, classification_report"
   ],
   "outputs": [],
   "execution_count": 1
  },
  {
   "metadata": {
    "ExecuteTime": {
     "end_time": "2024-06-29T23:44:26.923826Z",
     "start_time": "2024-06-29T23:44:26.828913Z"
    }
   },
   "cell_type": "code",
   "source": [
    "# Load data splits\n",
    "# dataset = 'fer2013'\n",
    "dataset = 'ck'\n",
    "train_data_path = dataset + '_data/train_data_70_20_10.pkl'\n",
    "val_data_path = dataset + '_data/val_data_70_20_10.pkl'\n",
    "test_data_path = dataset + '_data/test_data_70_20_10.pkl'\n",
    "\n",
    "with open(train_data_path, 'rb') as f:\n",
    "    train_data = pickle.load(f)\n",
    "with open(val_data_path, 'rb') as f:\n",
    "    val_data = pickle.load(f)\n",
    "with open(test_data_path, 'rb') as f:\n",
    "    test_data = pickle.load(f)\n",
    "\n",
    "adjacency_matrix = np.loadtxt('standard_mesh_adj_matrix.csv', delimiter=',')\n",
    "G = nx.from_numpy_array(adjacency_matrix)\n",
    "\n",
    "# Add batch attribute to each data object\n",
    "for data in train_data:\n",
    "    data.batch = torch.zeros(data.x.size(0), dtype=torch.long)\n",
    "    data.device = 'cpu'\n",
    "for data in val_data:\n",
    "    data.batch = torch.zeros(data.x.size(0), dtype=torch.long)\n",
    "    data.device = 'cpu'\n",
    "for data in test_data:\n",
    "    data.batch = torch.zeros(data.x.size(0), dtype=torch.long)\n",
    "    data.device = 'cpu'\n",
    "    \n",
    "class EarlyStopping:\n",
    "    def __init__(self, patience=10, delta=0):\n",
    "        self.patience = patience\n",
    "        self.delta = delta\n",
    "        self.best_score = None\n",
    "        self.early_stop = False\n",
    "        self.counter = 0\n",
    "\n",
    "    def __call__(self, val_loss, model):\n",
    "        if self.best_score is None:\n",
    "            self.best_score = val_loss\n",
    "            self.save_checkpoint(val_loss, model)\n",
    "        elif val_loss > self.best_score + self.delta:\n",
    "            self.counter += 1\n",
    "            if self.counter >= self.patience:\n",
    "                self.early_stop = True\n",
    "        else:\n",
    "            self.best_score = val_loss\n",
    "            self.save_checkpoint(val_loss, model)\n",
    "            self.counter = 0\n",
    "\n",
    "    def save_checkpoint(self, val_loss, model):\n",
    "        torch.save(model.state_dict(), 'checkpoint.pt')\n",
    "        self.val_loss_min = val_loss\n"
   ],
   "id": "8292bd1134db1345",
   "outputs": [],
   "execution_count": 30
  },
  {
   "metadata": {
    "ExecuteTime": {
     "end_time": "2024-06-30T00:02:13.012569Z",
     "start_time": "2024-06-30T00:02:12.994693Z"
    }
   },
   "cell_type": "code",
   "source": [
    "from torch_geometric.nn import BatchNorm\n",
    "from torch_geometric.nn import GATConv, GCNConv, SAGEConv, GraphConv\n",
    "\n",
    "class GIN(torch.nn.Module):\n",
    "    def __init__(self, input_dim, hidden_dim, output_dim, device='cpu'):\n",
    "        super(GIN, self).__init__()\n",
    "        self.device = device\n",
    "        nn1 = torch.nn.Sequential(torch.nn.Linear(input_dim, hidden_dim), torch.nn.ReLU(), torch.nn.Linear(hidden_dim, hidden_dim))\n",
    "        self.conv1 = GINConv(nn1)\n",
    "        self.bn1 = BatchNorm(hidden_dim)\n",
    "        \n",
    "        nn2 = torch.nn.Sequential(torch.nn.Linear(hidden_dim, hidden_dim), torch.nn.ReLU(), torch.nn.Linear(hidden_dim, hidden_dim))\n",
    "        self.conv2 = GINConv(nn2)\n",
    "        self.bn2 = BatchNorm(hidden_dim)\n",
    "        \n",
    "        self.lin = torch.nn.Linear(hidden_dim, output_dim)\n",
    "\n",
    "    def forward(self, data, edge_index, batch):\n",
    "        data = data.to(self.device)\n",
    "        x, edge_index, batch = data.to(torch.float), edge_index.to(torch.int64), batch\n",
    "        x = self.conv1(x, edge_index)\n",
    "        x = self.bn1(x)\n",
    "        x = F.relu(x)\n",
    "        x = self.conv2(x, edge_index)\n",
    "        x = self.bn2(x)\n",
    "        x = F.relu(x)\n",
    "        x = global_mean_pool(x, batch)\n",
    "        x = self.lin(x)\n",
    "        return F.log_softmax(x, dim=1)\n",
    "\n",
    "class GAT(torch.nn.Module):\n",
    "    def __init__(self, input_dim, hidden_dim, output_dim, device='cpu'):\n",
    "        super(GAT, self).__init__()\n",
    "        self.conv1 = GATConv(input_dim, hidden_dim, heads=4, concat=True)\n",
    "        self.conv2 = GATConv(hidden_dim * 4, hidden_dim, heads=4, concat=True)\n",
    "        self.lin = torch.nn.Linear(hidden_dim * 4, output_dim)\n",
    "        self.device = device\n",
    "\n",
    "    def forward(self, data, edge_index, batch):\n",
    "        data = data.to(self.device)\n",
    "        x, edge_index, batch = data.to(torch.float), edge_index.to(torch.int64), batch\n",
    "        x = self.conv1(x, edge_index)\n",
    "        x = F.elu(x)\n",
    "        x = self.conv2(x, edge_index)\n",
    "        x = F.elu(x)\n",
    "        x = global_mean_pool(x, batch)\n",
    "        x = self.lin(x)\n",
    "        return F.log_softmax(x, dim=1)\n",
    "    \n",
    "class GCNSAGE(torch.nn.Module):\n",
    "    def __init__(self, input_dim, hidden_dim, output_dim, device='cpu'):\n",
    "        super(GCNSAGE, self).__init__()\n",
    "        self.conv1 = GCNConv(input_dim, hidden_dim)\n",
    "        self.conv2 = SAGEConv(hidden_dim, hidden_dim)\n",
    "        self.lin = torch.nn.Linear(hidden_dim, output_dim)\n",
    "        self.device = device\n",
    "\n",
    "    def forward(self, data, edge_index, batch):\n",
    "        data = data.to(self.device)\n",
    "        x, edge_index, batch = data.to(torch.float), edge_index.to(torch.int64), batch\n",
    "        x = self.conv1(x, edge_index)\n",
    "        x = F.relu(x)\n",
    "        x = self.conv2(x, edge_index)\n",
    "        x = F.relu(x)\n",
    "        x = global_mean_pool(x, batch)\n",
    "        x = self.lin(x)\n",
    "        return F.log_softmax(x, dim=1)\n",
    "    \n",
    "class GConv(torch.nn.Module):\n",
    "    def __init__(self, input_dim, hidden_dim, output_dim, device='cpu'):\n",
    "        super(GConv, self).__init__()\n",
    "        self.conv1 = GraphConv(input_dim, hidden_dim)\n",
    "        self.conv2 = GraphConv(hidden_dim, hidden_dim)\n",
    "        self.lin = torch.nn.Linear(hidden_dim, output_dim)\n",
    "        self.device = device\n",
    "\n",
    "    def forward(self, data, edge_index, batch):\n",
    "        data = data.to(self.device)\n",
    "        x, edge_index, batch = data.to(torch.float), edge_index.to(torch.int64), batch\n",
    "        x = self.conv1(x, edge_index)\n",
    "        x = F.relu(x)\n",
    "        x = self.conv2(x, edge_index)\n",
    "        x = F.relu(x)\n",
    "        x = global_mean_pool(x, batch)\n",
    "        x = self.lin(x)\n",
    "        return F.log_softmax(x, dim=1)\n",
    "    \n",
    "class GINBNorm(torch.nn.Module):\n",
    "    def __init__(self, input_dim, hidden_dim, output_dim, device='cpu'):\n",
    "        super(GINBNorm, self).__init__()\n",
    "        nn1 = torch.nn.Sequential(torch.nn.Linear(input_dim, hidden_dim), torch.nn.ReLU(), torch.nn.Linear(hidden_dim, hidden_dim))\n",
    "        self.conv1 = GINConv(nn1)\n",
    "        self.bn1 = BatchNorm(hidden_dim)\n",
    "        \n",
    "        nn2 = torch.nn.Sequential(torch.nn.Linear(hidden_dim, hidden_dim), torch.nn.ReLU(), torch.nn.Linear(hidden_dim, hidden_dim))\n",
    "        self.conv2 = GINConv(nn2)\n",
    "        self.bn2 = BatchNorm(hidden_dim)\n",
    "        \n",
    "        self.lin = torch.nn.Linear(hidden_dim, output_dim)\n",
    "        self.device = device\n",
    "\n",
    "    def forward(self, data, edge_index, batch):\n",
    "        data = data.to(self.device)\n",
    "        x, edge_index, batch = data.to(torch.float), edge_index.to(torch.int64), batch\n",
    "        x = self.conv1(x, edge_index)\n",
    "        x = self.bn1(x)\n",
    "        x = F.relu(x)\n",
    "        x = self.conv2(x, edge_index)\n",
    "        x = self.bn2(x)\n",
    "        x = F.relu(x)\n",
    "        x = global_mean_pool(x, batch)\n",
    "        x = self.lin(x)\n",
    "        return F.log_softmax(x, dim=1)"
   ],
   "id": "7a482873ec7e5ec8",
   "outputs": [],
   "execution_count": 3
  },
  {
   "metadata": {
    "ExecuteTime": {
     "end_time": "2024-06-29T23:44:29.926458Z",
     "start_time": "2024-06-29T23:44:29.917607Z"
    }
   },
   "cell_type": "code",
   "source": [
    "def train(model, device, train_loader, optimizer, criterion):\n",
    "    model.train()\n",
    "    model.to(device)\n",
    "    total_loss = 0\n",
    "    correct = 0\n",
    "    total = 0\n",
    "    for data in train_loader:\n",
    "        data = data.to(device)\n",
    "        optimizer.zero_grad()\n",
    "        out = model(data.x, data.edge_index, data.batch)\n",
    "        loss = criterion(out, data.y)\n",
    "        loss.backward()\n",
    "        optimizer.step()\n",
    "        total_loss += loss.item()\n",
    "        pred = out.argmax(dim=1)\n",
    "        correct += pred.eq(data.y).sum().item()\n",
    "        total += data.y.size(0)\n",
    "    return total_loss / len(train_loader), correct / total\n",
    "\n",
    "def evaluate(model, device, loader, criterion):\n",
    "    model.eval()\n",
    "    model.to(device)\n",
    "    correct = 0\n",
    "    total = 0\n",
    "    val_loss = 0\n",
    "    all_preds = []\n",
    "    all_labels = []\n",
    "    with torch.no_grad():\n",
    "        for data in loader:\n",
    "            data = data.to(device)\n",
    "            out = model(data.x, data.edge_index, data.batch)\n",
    "            pred = out.argmax(dim=1)\n",
    "            correct += pred.eq(data.y).sum().item()\n",
    "            total += data.y.size(0)\n",
    "            val_loss += criterion(out, data.y).item()\n",
    "            all_preds.extend(pred.cpu().numpy())\n",
    "            all_labels.extend(data.y.cpu().numpy())\n",
    "    return correct / total, val_loss / len(loader), all_labels, all_preds\n"
   ],
   "id": "633269b1ebf83fb6",
   "outputs": [],
   "execution_count": 4
  },
  {
   "metadata": {
    "ExecuteTime": {
     "end_time": "2024-06-30T00:02:22.836912Z",
     "start_time": "2024-06-30T00:02:21.470614Z"
    }
   },
   "cell_type": "code",
   "source": [
    "output_dim = len(np.unique([data.y.item() for data in train_data]))\n",
    "device = 'cpu'\n",
    "### CHANGE THE NAME OF THE MODEL HERE\n",
    "model = GINBNorm(input_dim=3, hidden_dim=64, output_dim=output_dim)\n",
    "train_losses = []\n",
    "train_accuracies = []\n",
    "test_losses = []\n",
    "test_accuracies = []\n",
    "optimizer = torch.optim.Adam(model.parameters(), lr=0.001)\n",
    "batch_size = 32\n",
    "n_epochs = 5\n",
    "train_loader = DataLoader(train_data, batch_size=batch_size, shuffle=True)\n",
    "test_loader = DataLoader(test_data, batch_size=batch_size, shuffle=False)\n",
    "# Initialize model, optimizer, and criterion\n",
    "\n",
    "# Calculate class weights\n",
    "label_counts = np.bincount([data.y.item() for data in train_data])\n",
    "class_weights = 1.0 / label_counts\n",
    "class_weights = class_weights / class_weights.sum()\n",
    "class_weights = torch.tensor(class_weights, dtype=torch.float).to(device)\n",
    "criterion = torch.nn.CrossEntropyLoss(weight=class_weights)\n",
    "\n",
    "\n",
    "for epoch in range(n_epochs):\n",
    "    train_loss, train_acc = train(model, device, train_loader, optimizer, criterion)\n",
    "    train_losses.append(train_loss)\n",
    "    train_accuracies.append(train_acc) \n",
    "    test_acc, test_loss, test_labels, test_preds = evaluate(\n",
    "        model, \n",
    "        device, \n",
    "        test_loader, \n",
    "        criterion\n",
    "    )\n",
    "    test_losses.append(test_loss)\n",
    "    test_accuracies.append(test_acc)"
   ],
   "id": "8460f8f1789f4b4a",
   "outputs": [],
   "execution_count": 5
  },
  {
   "metadata": {
    "ExecuteTime": {
     "end_time": "2024-06-30T00:02:23.932088Z",
     "start_time": "2024-06-30T00:02:23.723297Z"
    }
   },
   "cell_type": "code",
   "source": [
    "explainer = Explainer(\n",
    "    model=model, \n",
    "    algorithm=GNNExplainer(\n",
    "    ),\n",
    "    explanation_type=\"model\",\n",
    "    node_mask_type=\"attributes\",\n",
    "    edge_mask_type='object',\n",
    "    model_config=dict(\n",
    "        mode='multiclass_classification',\n",
    "        task_level='graph',\n",
    "        return_type='log_probs'\n",
    "    )\n",
    ")\n",
    "# explanations for each node\n",
    "explanations = []\n",
    "explanation = explainer(test_data[0].x, test_data[0].edge_index, target=None, batch=test_data[0].batch)\n",
    "explanations.append(explanation)"
   ],
   "id": "10399ece134dd41e",
   "outputs": [],
   "execution_count": 6
  },
  {
   "metadata": {
    "ExecuteTime": {
     "end_time": "2024-06-30T00:02:24.536198Z",
     "start_time": "2024-06-30T00:02:24.533251Z"
    }
   },
   "cell_type": "code",
   "source": [
    "explanations[0].node_mask"
   ],
   "id": "18fb1aeea712f8aa",
   "outputs": [
    {
     "data": {
      "text/plain": "tensor([[0.2671, 0.3111, 0.2863],\n        [0.2991, 0.2696, 0.2705],\n        [0.2916, 0.4750, 0.2596],\n        ...,\n        [0.2426, 0.2916, 0.3142],\n        [0.2956, 0.2767, 0.2963],\n        [0.2557, 0.3062, 0.3291]])"
     },
     "execution_count": 8,
     "metadata": {},
     "output_type": "execute_result"
    }
   ],
   "execution_count": 8
  },
  {
   "metadata": {},
   "cell_type": "code",
   "outputs": [],
   "execution_count": 10,
   "source": [
    "node_importances = explanation.node_mask.numpy()\n",
    "edge_relevances = explanation.edge_mask.numpy()\n",
    "edge_index = test_data[0].edge_index.numpy()"
   ],
   "id": "8ce7e9ecc220f7d0"
  },
  {
   "cell_type": "code",
   "execution_count": 65,
   "outputs": [
    {
     "data": {
      "application/vnd.plotly.v1+json": {
       "data": [
        {
         "marker": {
          "color": [
           [
            0.26709967851638794,
            0.31107407808303833,
            0.28634747862815857
           ],
           [
            0.29906997084617615,
            0.26962581276893616,
            0.27054768800735474
           ],
           [
            0.291608065366745,
            0.4750252068042755,
            0.2595873773097992
           ],
           [
            0.2813291549682617,
            0.3369671404361725,
            0.28226080536842346
           ],
           [
            0.27324536442756653,
            0.6404968500137329,
            0.0
           ],
           [
            0.28232845664024353,
            0.2659231722354889,
            0.26888328790664673
           ],
           [
            0.281760036945343,
            0.36859452724456787,
            0.2960255742073059
           ],
           [
            0.29751479625701904,
            0.2530994415283203,
            0.3085457682609558
           ],
           [
            0.2804238498210907,
            0.2813490629196167,
            0.3027363121509552
           ],
           [
            0.32998818159103394,
            0.30410438776016235,
            0.3248613476753235
           ],
           [
            0.2569526433944702,
            0.27411720156669617,
            0.2285759598016739
           ],
           [
            0.27645859122276306,
            0.3652173578739166,
            0.30682680010795593
           ],
           [
            0.29101261496543884,
            0.3576546609401703,
            0.28436559438705444
           ],
           [
            0.28182950615882874,
            0.3060297667980194,
            0.3165470063686371
           ],
           [
            0.28106728196144104,
            0.2664330005645752,
            0.2751936614513397
           ],
           [
            0.25920289754867554,
            0.3282952904701233,
            0.2517179846763611
           ],
           [
            0.2776370644569397,
            0.2866208553314209,
            0.2532329857349396
           ],
           [
            0.26334038376808167,
            0.33684736490249634,
            0.2423943132162094
           ],
           [
            0.31298714876174927,
            0.288627952337265,
            0.2718590497970581
           ],
           [
            0.25534653663635254,
            0.653296172618866,
            0.31785720586776733
           ],
           [
            0.2493596076965332,
            0.4014354944229126,
            0.2960939109325409
           ],
           [
            0.24971267580986023,
            0.2897717356681824,
            0.28257763385772705
           ],
           [
            0.2621060013771057,
            0.3034316301345825,
            0.3082335889339447
           ],
           [
            0.28748294711112976,
            0.3041408658027649,
            0.3210800886154175
           ],
           [
            0.3100161850452423,
            0.3144427239894867,
            0.34279170632362366
           ],
           [
            0.2554791569709778,
            0.31176626682281494,
            0.322812557220459
           ],
           [
            0.2710723578929901,
            0.3383655846118927,
            0.3071303069591522
           ],
           [
            0.3494580090045929,
            0.33894839882850647,
            0.4050277769565582
           ],
           [
            0.293701708316803,
            0.3341241478919983,
            0.31296414136886597
           ],
           [
            0.26298150420188904,
            0.3448469638824463,
            0.34442469477653503
           ],
           [
            0.2734646201133728,
            0.26415693759918213,
            0.3407216966152191
           ],
           [
            0.32491597533226013,
            0.27648207545280457,
            0.3068014979362488
           ],
           [
            0.28057661652565,
            0.7057406902313232,
            0.26123732328414917
           ],
           [
            0.2587030529975891,
            0.3010751008987427,
            0.3038920760154724
           ],
           [
            0.28227484226226807,
            0.2554415762424469,
            0.2775808274745941
           ],
           [
            0.2876589298248291,
            0.2757875621318817,
            0.2891879081726074
           ],
           [
            0.2749113142490387,
            0.29893696308135986,
            0.28930380940437317
           ],
           [
            0.26463353633880615,
            0.29273027181625366,
            0.26431703567504883
           ],
           [
            0.2962479293346405,
            0.3187994062900543,
            0.27348434925079346
           ],
           [
            0.3026798963546753,
            0.307895690202713,
            0.31542259454727173
           ],
           [
            0.3075557351112366,
            0.32366034388542175,
            0.25999894738197327
           ],
           [
            0.28925493359565735,
            0.3144310414791107,
            0.26577848196029663
           ],
           [
            0.2803412675857544,
            0.3500164747238159,
            0.2928828299045563
           ],
           [
            0.35761988162994385,
            0.42926695942878723,
            0.2897016704082489
           ],
           [
            0.2590947151184082,
            0.5998010635375977,
            0.23596030473709106
           ],
           [
            0.24888300895690918,
            0.34489914774894714,
            0.260931134223938
           ],
           [
            0.24115701019763947,
            0.33600515127182007,
            0.3087857663631439
           ],
           [
            0.25380927324295044,
            0.28780680894851685,
            0.3137120306491852
           ],
           [
            0.2634204626083374,
            0.32611292600631714,
            0.2792210280895233
           ],
           [
            0.2870103716850281,
            0.28519320487976074,
            0.2826964259147644
           ],
           [
            0.2693924903869629,
            0.32464566826820374,
            0.3200308382511139
           ],
           [
            0.28179043531417847,
            0.49136021733283997,
            0.26562201976776123
           ],
           [
            0.2692091464996338,
            0.4191097915172577,
            0.3759821653366089
           ],
           [
            0.30482253432273865,
            0.32022225856781006,
            0.3452381193637848
           ],
           [
            0.2871930003166199,
            0.26188787817955017,
            0.3401825726032257
           ],
           [
            0.290549099445343,
            0.3640948235988617,
            0.34173640608787537
           ],
           [
            0.2976093292236328,
            0.2679072916507721,
            0.30208295583724976
           ],
           [
            0.2897305488586426,
            0.38375574350357056,
            0.25051066279411316
           ],
           [
            0.281839519739151,
            0.29317939281463623,
            0.2617221474647522
           ],
           [
            0.31586506962776184,
            0.28159093856811523,
            0.2988855242729187
           ],
           [
            0.2800438702106476,
            0.32995620369911194,
            0.29580986499786377
           ],
           [
            0.3217688798904419,
            0.2955832779407501,
            0.27925997972488403
           ],
           [
            0.28758057951927185,
            0.3149667978286743,
            0.2964536249637604
           ],
           [
            0.30024266242980957,
            0.3073031008243561,
            0.37327489256858826
           ],
           [
            0.26793172955513,
            0.3195178806781769,
            0.30069398880004883
           ],
           [
            0.2702515721321106,
            0.3809603750705719,
            0.3185259997844696
           ],
           [
            0.3194453716278076,
            0.29075831174850464,
            0.27755483984947205
           ],
           [
            0.30948927998542786,
            0.27004456520080566,
            0.27212953567504883
           ],
           [
            0.27155229449272156,
            0.287539005279541,
            0.34345340728759766
           ],
           [
            0.2773125469684601,
            0.28664448857307434,
            0.35026082396507263
           ],
           [
            0.29006102681159973,
            0.25439661741256714,
            0.3252241015434265
           ],
           [
            0.28366991877555847,
            0.30526554584503174,
            0.3477204442024231
           ],
           [
            0.31219008564949036,
            0.3184674084186554,
            0.248130202293396
           ],
           [
            0.2968246042728424,
            0.2754993140697479,
            0.2937780022621155
           ],
           [
            0.27207326889038086,
            0.33674436807632446,
            0.31169798970222473
           ],
           [
            0.26915520429611206,
            0.3154955506324768,
            0.30301037430763245
           ],
           [
            0.300918310880661,
            0.24488259851932526,
            0.2725587487220764
           ],
           [
            0.2845892012119293,
            0.31240347027778625,
            0.26050516963005066
           ],
           [
            0.3133943974971771,
            0.30685073137283325,
            0.29099395871162415
           ],
           [
            0.31059175729751587,
            0.3568541705608368,
            0.2989782691001892
           ],
           [
            0.2681768238544464,
            0.2929909825325012,
            0.3376033902168274
           ],
           [
            0.2944270968437195,
            0.28473183512687683,
            0.2995201051235199
           ],
           [
            0.2848316729068756,
            0.2762130796909332,
            0.28999385237693787
           ],
           [
            0.26510167121887207,
            0.2946811020374298,
            0.2773727774620056
           ],
           [
            0.2643514573574066,
            0.29477059841156006,
            0.2248045951128006
           ],
           [
            0.28670740127563477,
            0.34513384103775024,
            0.25381672382354736
           ],
           [
            0.3036472797393799,
            0.29511359333992004,
            0.26873651146888733
           ],
           [
            0.26274803280830383,
            0.2616879642009735,
            0.2677451968193054
           ],
           [
            0.2950407862663269,
            0.26704636216163635,
            0.25139784812927246
           ],
           [
            0.24053367972373962,
            0.28995952010154724,
            0.3346552550792694
           ],
           [
            0.29769888520240784,
            0.3677055835723877,
            0.26181405782699585
           ],
           [
            0.28879794478416443,
            0.3646797835826874,
            0.280762642621994
           ],
           [
            0.30174383521080017,
            0.32543301582336426,
            0.2991187870502472
           ],
           [
            0.2651504874229431,
            0.26287052035331726,
            0.3014344274997711
           ],
           [
            0.2645997703075409,
            0.27454042434692383,
            0.30421730875968933
           ],
           [
            0.2728935480117798,
            0.2663571238517761,
            0.29318755865097046
           ],
           [
            0.28278788924217224,
            0.32633695006370544,
            0.2839917242527008
           ],
           [
            0.27774590253829956,
            0.3146260678768158,
            0.29027339816093445
           ],
           [
            0.28262773156166077,
            0.3000887930393219,
            0.2974689304828644
           ],
           [
            0.2890080213546753,
            0.3309299945831299,
            0.2906586527824402
           ],
           [
            0.3067267835140228,
            0.33065369725227356,
            0.303785502910614
           ],
           [
            0.301766961812973,
            0.3021734356880188,
            0.27120986580848694
           ],
           [
            0.2649710178375244,
            0.29259636998176575,
            0.26764142513275146
           ],
           [
            0.2877567410469055,
            0.2720143795013428,
            0.30980876088142395
           ],
           [
            0.2591685652732849,
            0.292351096868515,
            0.38928860425949097
           ],
           [
            0.26991260051727295,
            0.3145923316478729,
            0.329999715089798
           ],
           [
            0.3102060556411743,
            0.3619556725025177,
            0.24771344661712646
           ],
           [
            0.27911800146102905,
            0.3432066738605499,
            0.3151915669441223
           ],
           [
            0.3017326593399048,
            0.26798319816589355,
            0.30404195189476013
           ],
           [
            0.28918957710266113,
            0.2697443962097168,
            0.2898264229297638
           ],
           [
            0.27991676330566406,
            0.2985488176345825,
            0.3028331398963928
           ],
           [
            0.3199996054172516,
            0.29052916169166565,
            0.2941319942474365
           ],
           [
            0.27368074655532837,
            0.28005656599998474,
            0.3293915092945099
           ],
           [
            0.28073206543922424,
            0.31895187497138977,
            0.3485613167285919
           ],
           [
            0.2823900878429413,
            0.31598836183547974,
            0.26503434777259827
           ],
           [
            0.27584946155548096,
            0.3429167866706848,
            0.2703341245651245
           ],
           [
            0.2938898503780365,
            0.2674100399017334,
            0.27666208148002625
           ],
           [
            0.27151936292648315,
            0.2607383131980896,
            0.29029497504234314
           ],
           [
            0.297212690114975,
            0.267795205116272,
            0.31648504734039307
           ],
           [
            0.2823314666748047,
            0.267484575510025,
            0.2931414544582367
           ],
           [
            0.3385981619358063,
            0.3048468232154846,
            0.3046630024909973
           ],
           [
            0.2763497829437256,
            0.298904687166214,
            0.30396807193756104
           ],
           [
            0.25334736704826355,
            0.37264227867126465,
            0.3114128112792969
           ],
           [
            0.2800167202949524,
            0.3061526417732239,
            0.2622927725315094
           ],
           [
            0.3126313388347626,
            0.2833509147167206,
            0.32863515615463257
           ],
           [
            0.2768678665161133,
            0.35739651322364807,
            0.2690344452857971
           ],
           [
            0.3091033101081848,
            0.3037353456020355,
            0.2877207100391388
           ],
           [
            0.0,
            0.23030082881450653,
            0.2686285376548767
           ],
           [
            0.2602994740009308,
            0.3598010241985321,
            0.28602147102355957
           ],
           [
            0.30779048800468445,
            0.33927395939826965,
            0.30280163884162903
           ],
           [
            0.27124279737472534,
            0.29616305232048035,
            0.31455469131469727
           ],
           [
            0.28630518913269043,
            0.4257814288139343,
            0.30569934844970703
           ],
           [
            0.3014863133430481,
            0.27958402037620544,
            0.28295043110847473
           ],
           [
            0.27621200680732727,
            0.29057997465133667,
            0.30969175696372986
           ],
           [
            0.3066861033439636,
            0.4368140399456024,
            0.27789607644081116
           ],
           [
            0.26214027404785156,
            0.32182201743125916,
            0.27204814553260803
           ],
           [
            0.28719329833984375,
            0.281399130821228,
            0.2646544575691223
           ],
           [
            0.25954777002334595,
            0.2569735050201416,
            0.25529396533966064
           ],
           [
            0.3020177185535431,
            0.32162386178970337,
            0.24941743910312653
           ],
           [
            0.29526451230049133,
            0.2630370259284973,
            0.3016555905342102
           ],
           [
            0.29844990372657776,
            0.7384214401245117,
            0.28243282437324524
           ],
           [
            0.28118896484375,
            0.5564969778060913,
            0.2945122718811035
           ],
           [
            0.3076609671115875,
            0.31223174929618835,
            0.32043495774269104
           ],
           [
            0.26982006430625916,
            0.2553941309452057,
            0.2858502268791199
           ],
           [
            0.29205378890037537,
            0.29369744658470154,
            0.3294253349304199
           ],
           [
            0.2978905141353607,
            0.2705639600753784,
            0.2715051770210266
           ],
           [
            0.3046219050884247,
            0.3125726878643036,
            0.233973890542984
           ],
           [
            0.2801629900932312,
            0.2687274217605591,
            0.2440146505832672
           ],
           [
            0.27738723158836365,
            0.6772128939628601,
            0.2810319662094116
           ],
           [
            0.27376484870910645,
            0.29390791058540344,
            0.27821028232574463
           ],
           [
            0.2667540907859802,
            0.35827958583831787,
            0.2541519105434418
           ],
           [
            0.2673531174659729,
            0.272196501493454,
            0.3268958628177643
           ],
           [
            0.2544054090976715,
            0.3174997568130493,
            0.28702038526535034
           ],
           [
            0.2835235893726349,
            0.27981626987457275,
            0.2671310007572174
           ],
           [
            0.28838205337524414,
            0.27092817425727844,
            0.29024842381477356
           ],
           [
            0.2743343114852905,
            0.2640307545661926,
            0.3148958384990692
           ],
           [
            0.26360011100769043,
            0.26991352438926697,
            0.30780795216560364
           ],
           [
            0.30109840631484985,
            0.3010280728340149,
            0.2673913836479187
           ],
           [
            0.2783048748970032,
            0.30314376950263977,
            0.2914658486843109
           ],
           [
            0.28820696473121643,
            0.3090980648994446,
            0.3025123178958893
           ],
           [
            0.29473355412483215,
            0.30797913670539856,
            0.3519822657108307
           ],
           [
            0.28462743759155273,
            0.3325249254703522,
            0.2918107509613037
           ],
           [
            0.266390860080719,
            0.2766331732273102,
            0.2813645899295807
           ],
           [
            0.2815203368663788,
            0.2977546155452728,
            0.272863507270813
           ],
           [
            0.29867807030677795,
            0.34794652462005615,
            0.23965057730674744
           ],
           [
            0.3017410635948181,
            0.28563541173934937,
            0.2655465006828308
           ],
           [
            0.2784615755081177,
            0.3346637487411499,
            0.29902443289756775
           ],
           [
            0.2925122082233429,
            0.3205645680427551,
            0.2859179973602295
           ],
           [
            0.2207595407962799,
            0.33619827032089233,
            0.33295005559921265
           ],
           [
            0.3018582761287689,
            0.6403694748878479,
            0.29055413603782654
           ],
           [
            0.2753320336341858,
            0.6536722779273987,
            0.28739064931869507
           ],
           [
            0.29189878702163696,
            0.7207613587379456,
            0.2314237654209137
           ],
           [
            0.2964475452899933,
            0.26914528012275696,
            0.2870449423789978
           ],
           [
            0.2891281545162201,
            0.3219721019268036,
            0.30900129675865173
           ],
           [
            0.2683090269565582,
            0.3035268485546112,
            0.2704319357872009
           ],
           [
            0.29511475563049316,
            0.6099985241889954,
            0.27519363164901733
           ],
           [
            0.28165966272354126,
            0.5799288153648376,
            0.25031813979148865
           ],
           [
            0.24498803913593292,
            0.2855091691017151,
            0.24246501922607422
           ],
           [
            0.2906613051891327,
            0.27897682785987854,
            0.28900447487831116
           ],
           [
            0.3084545433521271,
            0.3115071654319763,
            0.2568593919277191
           ],
           [
            0.2984674274921417,
            0.2885982096195221,
            0.27236759662628174
           ],
           [
            0.29578453302383423,
            0.32161465287208557,
            0.2594844400882721
           ],
           [
            0.28791186213493347,
            0.3388236463069916,
            0.27546554803848267
           ],
           [
            0.29162126779556274,
            0.3153090178966522,
            0.27935099601745605
           ],
           [
            0.28916358947753906,
            0.2647274136543274,
            0.2748960256576538
           ],
           [
            0.30664101243019104,
            0.35499510169029236,
            0.2608884871006012
           ],
           [
            0.28999778628349304,
            0.3233104348182678,
            0.27401459217071533
           ],
           [
            0.2821701467037201,
            0.3282407224178314,
            0.2570916712284088
           ],
           [
            0.28349822759628296,
            0.3564419150352478,
            0.31539708375930786
           ],
           [
            0.2961077094078064,
            0.35128384828567505,
            0.37121039628982544
           ],
           [
            0.2740429639816284,
            0.2801901400089264,
            0.3758060932159424
           ],
           [
            0.2815875709056854,
            0.2952174246311188,
            0.32639291882514954
           ],
           [
            0.2633397877216339,
            0.2602630853652954,
            0.28029876947402954
           ],
           [
            0.27592530846595764,
            0.3978394865989685,
            0.3465893864631653
           ],
           [
            0.2832481563091278,
            0.6291545033454895,
            0.23249757289886475
           ],
           [
            0.26525571942329407,
            0.3644459545612335,
            0.21543218195438385
           ],
           [
            0.2801467478275299,
            0.4309300184249878,
            0.30440235137939453
           ],
           [
            0.23073025047779083,
            0.35560891032218933,
            0.309705913066864
           ],
           [
            0.2792837619781494,
            0.3047073185443878,
            0.2769712805747986
           ],
           [
            0.2872220277786255,
            0.5748512744903564,
            0.24789758026599884
           ],
           [
            0.2969192862510681,
            0.306351900100708,
            0.2412514090538025
           ],
           [
            0.2664513885974884,
            0.6068906784057617,
            0.26562297344207764
           ],
           [
            0.3209516406059265,
            0.48608633875846863,
            0.2652433216571808
           ],
           [
            0.2991483211517334,
            0.3050980567932129,
            0.3378330171108246
           ],
           [
            0.2823832035064697,
            0.6055696606636047,
            0.2549939751625061
           ],
           [
            0.3004470765590668,
            0.291047602891922,
            0.3124776780605316
           ],
           [
            0.28671562671661377,
            0.2897550165653229,
            0.2971370220184326
           ],
           [
            0.2680131494998932,
            0.2540753185749054,
            0.27066484093666077
           ],
           [
            0.3062669336795807,
            0.6466234922409058,
            0.2619049847126007
           ],
           [
            0.28296929597854614,
            0.3086835741996765,
            0.2763963043689728
           ],
           [
            0.2883378863334656,
            0.6291780471801758,
            0.2786792516708374
           ],
           [
            0.29650673270225525,
            0.68463134765625,
            0.26415690779685974
           ],
           [
            0.2923435568809509,
            0.346536785364151,
            0.24490292370319366
           ],
           [
            0.25987863540649414,
            0.2770862579345703,
            0.27088797092437744
           ],
           [
            0.2954868972301483,
            0.5716012120246887,
            0.2501690983772278
           ],
           [
            0.262200266122818,
            0.3421473503112793,
            0.2684114873409271
           ],
           [
            0.2891538739204407,
            0.3276289403438568,
            0.26298120617866516
           ],
           [
            0.2660834491252899,
            0.32292523980140686,
            0.2937919497489929
           ],
           [
            0.2823244333267212,
            0.392279714345932,
            0.27740588784217834
           ],
           [
            0.2886544466018677,
            0.3594439625740051,
            0.27959588170051575
           ],
           [
            0.30323076248168945,
            0.5770494937896729,
            0.2833087146282196
           ],
           [
            0.25256454944610596,
            0.33584535121917725,
            0.36322021484375
           ],
           [
            0.27495938539505005,
            0.31279677152633667,
            0.3428909480571747
           ],
           [
            0.2912754714488983,
            0.2848770320415497,
            0.3197006583213806
           ],
           [
            0.3037860095500946,
            0.33295464515686035,
            0.3325768709182739
           ],
           [
            0.2699715793132782,
            0.29164963960647583,
            0.3516984283924103
           ],
           [
            0.32625728845596313,
            0.24963465332984924,
            0.2939225435256958
           ],
           [
            0.2551921308040619,
            0.27438390254974365,
            0.24531473219394684
           ],
           [
            0.27056726813316345,
            0.290862500667572,
            0.3154926300048828
           ],
           [
            0.30045098066329956,
            0.252733439207077,
            0.3109993040561676
           ],
           [
            0.305496484041214,
            0.3236616551876068,
            0.32928383350372314
           ],
           [
            0.27534547448158264,
            0.2756447494029999,
            0.32011884450912476
           ],
           [
            0.2901962697505951,
            0.3317154049873352,
            0.32001498341560364
           ],
           [
            0.26757171750068665,
            0.2818877398967743,
            0.29978352785110474
           ],
           [
            0.2888188064098358,
            0.2760166525840759,
            0.2978680431842804
           ],
           [
            0.2974163591861725,
            0.3182792663574219,
            0.25927361845970154
           ],
           [
            0.2875828444957733,
            0.4687912166118622,
            0.31443488597869873
           ],
           [
            0.27254804968833923,
            0.5608694553375244,
            0.26706749200820923
           ],
           [
            0.3055917024612427,
            0.3300101161003113,
            0.24147161841392517
           ],
           [
            0.27536654472351074,
            0.2826063632965088,
            0.26726236939430237
           ],
           [
            0.26709356904029846,
            0.3185214400291443,
            0.2515423893928528
           ],
           [
            0.28691565990448,
            0.4036044180393219,
            0.29647761583328247
           ],
           [
            0.27482280135154724,
            0.3580552935600281,
            0.26227304339408875
           ],
           [
            0.28664910793304443,
            0.28892233967781067,
            0.2950344681739807
           ],
           [
            0.272009015083313,
            0.3307574689388275,
            0.31933146715164185
           ],
           [
            0.2925855219364166,
            0.3375864326953888,
            0.30369213223457336
           ],
           [
            0.2642049193382263,
            0.24036015570163727,
            0.2696514129638672
           ],
           [
            0.26281440258026123,
            0.31420624256134033,
            0.31221604347229004
           ],
           [
            0.2467319816350937,
            0.34938570857048035,
            0.266558974981308
           ],
           [
            0.2971574068069458,
            0.2625255286693573,
            0.2912965714931488
           ],
           [
            0.24152734875679016,
            0.3899703323841095,
            0.31241127848625183
           ],
           [
            0.3110431432723999,
            0.29068127274513245,
            0.2919278144836426
           ],
           [
            0.23874403536319733,
            0.31101512908935547,
            0.29655763506889343
           ],
           [
            0.28008538484573364,
            0.27225208282470703,
            0.28365543484687805
           ],
           [
            0.26775768399238586,
            0.2747533917427063,
            0.23953166604042053
           ],
           [
            0.2920052707195282,
            0.2845728397369385,
            0.29063141345977783
           ],
           [
            0.2496137022972107,
            0.28574028611183167,
            0.32303327322006226
           ],
           [
            0.27121880650520325,
            0.2852930426597595,
            0.3169642388820648
           ],
           [
            0.27015164494514465,
            0.26144567131996155,
            0.32552599906921387
           ],
           [
            0.2711348831653595,
            0.22598741948604584,
            0.3393489420413971
           ],
           [
            0.2894264757633209,
            0.27736616134643555,
            0.319477379322052
           ],
           [
            0.2576615512371063,
            0.36824923753738403,
            0.2875538468360901
           ],
           [
            0.2696343660354614,
            0.29907920956611633,
            0.25607582926750183
           ],
           [
            0.30833935737609863,
            0.2306113839149475,
            0.2868952751159668
           ],
           [
            0.30168697237968445,
            0.41121941804885864,
            0.32954707741737366
           ],
           [
            0.30232977867126465,
            0.2946928143501282,
            0.3281048834323883
           ],
           [
            0.1768469363451004,
            0.2790285646915436,
            0.2543216049671173
           ],
           [
            0.2897586226463318,
            0.3595745861530304,
            0.27812737226486206
           ],
           [
            0.2721634805202484,
            0.3078058063983917,
            0.3050541281700134
           ],
           [
            0.23639000952243805,
            0.33161839842796326,
            0.27728474140167236
           ],
           [
            0.27792081236839294,
            0.283511757850647,
            0.2775912284851074
           ],
           [
            0.23940454423427582,
            0.30560269951820374,
            0.30325543880462646
           ],
           [
            0.2757011950016022,
            0.3343065679073334,
            0.23196227848529816
           ],
           [
            0.2207661271095276,
            0.28899282217025757,
            0.23658908903598785
           ],
           [
            0.27717769145965576,
            0.5876308679580688,
            0.3128085732460022
           ],
           [
            0.2698797285556793,
            0.3402487337589264,
            0.2821306884288788
           ],
           [
            0.27434128522872925,
            0.29685425758361816,
            0.30007651448249817
           ],
           [
            0.2428574115037918,
            0.3373207449913025,
            0.3069358766078949
           ],
           [
            0.2629845440387726,
            0.3402981460094452,
            0.32298681139945984
           ],
           [
            0.21225479245185852,
            0.30068713426589966,
            0.29689911007881165
           ],
           [
            0.2544001042842865,
            0.33171674609184265,
            0.2728393077850342
           ],
           [
            0.2638290524482727,
            0.3701796233654022,
            0.2475745528936386
           ],
           [
            0.25392603874206543,
            0.27279528975486755,
            0.29369956254959106
           ],
           [
            0.2674435079097748,
            0.2985427975654602,
            0.2867964804172516
           ],
           [
            0.29181668162345886,
            0.2791878283023834,
            0.2688690721988678
           ],
           [
            0.26764583587646484,
            0.29251620173454285,
            0.2764204442501068
           ],
           [
            0.29632750153541565,
            0.2996032238006592,
            0.31331944465637207
           ],
           [
            0.25601819157600403,
            0.3080352544784546,
            0.2827475070953369
           ],
           [
            0.3134261965751648,
            0.29102811217308044,
            0.3261926770210266
           ],
           [
            0.257306843996048,
            0.2709410488605499,
            0.2631470561027527
           ],
           [
            0.2441777139902115,
            0.3633193075656891,
            0.29353708028793335
           ],
           [
            0.24236154556274414,
            0.33174654841423035,
            0.25983160734176636
           ],
           [
            0.2789566218852997,
            0.32455673813819885,
            0.26300737261772156
           ],
           [
            0.25624027848243713,
            0.29766857624053955,
            0.3261963427066803
           ],
           [
            0.23507483303546906,
            0.3061954081058502,
            0.3040068745613098
           ],
           [
            0.33034855127334595,
            0.24089913070201874,
            0.33790773153305054
           ],
           [
            0.3141469657421112,
            0.29314038157463074,
            0.2722300887107849
           ],
           [
            0.2952651083469391,
            0.23787105083465576,
            0.32324835658073425
           ],
           [
            0.28884026408195496,
            0.2689952850341797,
            0.3039247989654541
           ],
           [
            0.27275553345680237,
            0.28683775663375854,
            0.31187868118286133
           ],
           [
            0.24084854125976562,
            0.2794385552406311,
            0.299746036529541
           ],
           [
            0.2908218204975128,
            0.2617894411087036,
            0.30958184599876404
           ],
           [
            0.2553079426288605,
            0.35371285676956177,
            0.2946779131889343
           ],
           [
            0.26978716254234314,
            0.324618935585022,
            0.26931512355804443
           ],
           [
            0.2645165026187897,
            0.32421770691871643,
            0.2518729865550995
           ],
           [
            0.27131685614585876,
            0.31825587153434753,
            0.26879021525382996
           ],
           [
            0.23743341863155365,
            0.3034851551055908,
            0.23069410026073456
           ],
           [
            0.23995065689086914,
            0.283754825592041,
            0.25760623812675476
           ],
           [
            0.2750689685344696,
            0.31239163875579834,
            0.2713874876499176
           ],
           [
            0.25452283024787903,
            0.31061267852783203,
            0.28581345081329346
           ],
           [
            0.21989616751670837,
            0.3267677426338196,
            0.29523754119873047
           ],
           [
            0.2743794918060303,
            0.3115460276603699,
            0.26613888144493103
           ],
           [
            0.29841992259025574,
            0.3276199400424957,
            0.2729108929634094
           ],
           [
            0.28715065121650696,
            0.35954517126083374,
            0.2955365478992462
           ],
           [
            0.2301347255706787,
            0.31403848528862,
            0.26480740308761597
           ],
           [
            0.268645703792572,
            0.3209581971168518,
            0.2518343925476074
           ],
           [
            0.3408091366291046,
            0.34401935338974,
            0.27128860354423523
           ],
           [
            0.2372443526983261,
            0.28815457224845886,
            0.27012377977371216
           ],
           [
            0.2641688883304596,
            0.34466150403022766,
            0.24001476168632507
           ],
           [
            0.27378979325294495,
            0.3066805303096771,
            0.27962160110473633
           ],
           [
            0.2385740727186203,
            0.33319199085235596,
            0.28941914439201355
           ],
           [
            0.25420576333999634,
            0.30812355875968933,
            0.2539307773113251
           ],
           [
            0.24877403676509857,
            0.28685006499290466,
            0.2843810021877289
           ],
           [
            0.30022817850112915,
            0.3910934031009674,
            0.2837390601634979
           ],
           [
            0.24811983108520508,
            0.2989259362220764,
            0.28732243180274963
           ],
           [
            0.2554195523262024,
            0.30025458335876465,
            0.24098946154117584
           ],
           [
            0.26345181465148926,
            0.3174649477005005,
            0.32485100626945496
           ],
           [
            0.23011337220668793,
            0.28549593687057495,
            0.28286778926849365
           ],
           [
            0.24975386261940002,
            0.3434686064720154,
            0.3003824055194855
           ],
           [
            0.2617766857147217,
            0.29890304803848267,
            0.29573193192481995
           ],
           [
            0.2629874050617218,
            0.30546343326568604,
            0.3183991312980652
           ],
           [
            0.25435537099838257,
            0.3051796853542328,
            0.28510451316833496
           ],
           [
            0.2852839231491089,
            0.27884387969970703,
            0.27534541487693787
           ],
           [
            0.2790757119655609,
            0.29738715291023254,
            0.3515723645687103
           ],
           [
            0.289314329624176,
            0.27983951568603516,
            0.28412148356437683
           ],
           [
            0.25817248225212097,
            0.2709290683269501,
            0.24940098822116852
           ],
           [
            0.2985144257545471,
            0.25658634305000305,
            0.28730881214141846
           ],
           [
            0.2973272502422333,
            0.2607187032699585,
            0.32533642649650574
           ],
           [
            0.2625564634799957,
            0.0,
            0.3101586401462555
           ],
           [
            0.2611244320869446,
            0.29151904582977295,
            0.2981576919555664
           ],
           [
            0.2670609951019287,
            0.4059818387031555,
            0.34590059518814087
           ],
           [
            0.23840652406215668,
            0.28697577118873596,
            0.3292553722858429
           ],
           [
            0.2889372408390045,
            0.32206207513809204,
            0.31467366218566895
           ],
           [
            0.24981997907161713,
            0.3152197599411011,
            0.3047717213630676
           ],
           [
            0.23967890441417694,
            0.3305705189704895,
            0.244201198220253
           ],
           [
            0.29356348514556885,
            0.392320454120636,
            0.29819756746292114
           ],
           [
            0.27969643473625183,
            0.36054396629333496,
            0.34316062927246094
           ],
           [
            0.2625724971294403,
            0.3025108873844147,
            0.2870088517665863
           ],
           [
            0.24082668125629425,
            0.23668521642684937,
            0.2510448098182678
           ],
           [
            0.2599535882472992,
            0.3235543370246887,
            0.27796900272369385
           ],
           [
            0.2358940690755844,
            0.28736644983291626,
            0.33370864391326904
           ],
           [
            0.2540499269962311,
            0.3345142900943756,
            0.2894541621208191
           ],
           [
            0.2800886631011963,
            0.41956716775894165,
            0.34026864171028137
           ],
           [
            0.2812303900718689,
            0.26827335357666016,
            0.3407939374446869
           ],
           [
            0.2672123610973358,
            0.28700506687164307,
            0.2668250501155853
           ],
           [
            0.23535220324993134,
            0.31718936562538147,
            0.28747910261154175
           ],
           [
            0.3008933365345001,
            0.26372218132019043,
            0.3383810818195343
           ],
           [
            0.2570173740386963,
            0.31982091069221497,
            0.31941601634025574
           ],
           [
            0.22303375601768494,
            0.3106613755226135,
            0.30547505617141724
           ],
           [
            0.27915579080581665,
            0.2573886215686798,
            0.31082844734191895
           ],
           [
            0.23301619291305542,
            0.3734627068042755,
            0.2730312645435333
           ],
           [
            0.30434650182724,
            0.2875238358974457,
            0.29915401339530945
           ],
           [
            0.25496384501457214,
            0.29274895787239075,
            0.3160325288772583
           ],
           [
            0.25903454422950745,
            0.353127121925354,
            0.2912660837173462
           ],
           [
            0.25999271869659424,
            0.287202924489975,
            0.2851985692977905
           ],
           [
            0.26376044750213623,
            0.2715170383453369,
            0.2742658853530884
           ],
           [
            0.28090840578079224,
            0.3913479149341583,
            0.3282637298107147
           ],
           [
            0.2877933382987976,
            0.29539811611175537,
            0.27756232023239136
           ],
           [
            0.30918264389038086,
            0.32005199790000916,
            0.2793389856815338
           ],
           [
            0.2411310076713562,
            0.2837359309196472,
            0.2516895532608032
           ],
           [
            0.28606346249580383,
            0.38946929574012756,
            0.2733004093170166
           ],
           [
            0.24030469357967377,
            0.315530389547348,
            0.26891449093818665
           ],
           [
            0.3095710873603821,
            0.4407753348350525,
            0.2960561215877533
           ],
           [
            0.2909204363822937,
            0.25420480966567993,
            0.26751095056533813
           ],
           [
            0.2513561248779297,
            0.2706126272678375,
            0.2809121310710907
           ],
           [
            0.25497567653656006,
            0.28792813420295715,
            0.244903102517128
           ],
           [
            0.28258365392684937,
            0.32374808192253113,
            0.3254978358745575
           ],
           [
            0.274166077375412,
            0.2644536793231964,
            0.24005126953125
           ],
           [
            0.24534761905670166,
            0.2959660291671753,
            0.2581184506416321
           ],
           [
            0.27228936553001404,
            0.27692851424217224,
            0.31093868613243103
           ],
           [
            0.23450064659118652,
            0.270600825548172,
            0.29338741302490234
           ],
           [
            0.2587881088256836,
            0.27598243951797485,
            0.27027735114097595
           ],
           [
            0.2507500946521759,
            0.3233295977115631,
            0.3209018409252167
           ],
           [
            0.2680946886539459,
            0.35713309049606323,
            0.31865400075912476
           ],
           [
            0.2625155746936798,
            0.3226241171360016,
            0.3190050721168518
           ],
           [
            0.25770100951194763,
            0.3231811821460724,
            0.26358845829963684
           ],
           [
            0.2886602282524109,
            0.2604237496852875,
            0.3219352066516876
           ],
           [
            0.2742580473423004,
            0.2773277759552002,
            0.30395615100860596
           ],
           [
            0.2660320997238159,
            0.27086976170539856,
            0.2897036075592041
           ],
           [
            0.31142476201057434,
            0.24539022147655487,
            0.28439104557037354
           ],
           [
            0.2408609837293625,
            0.2540890872478485,
            0.2950415015220642
           ],
           [
            0.23073090612888336,
            0.2899368703365326,
            0.32705873250961304
           ],
           [
            0.2646045982837677,
            0.3160085380077362,
            0.2936374843120575
           ],
           [
            0.25864294171333313,
            0.3287142813205719,
            0.26362961530685425
           ],
           [
            0.23013882339000702,
            0.3009711503982544,
            0.2606402337551117
           ],
           [
            0.23630723357200623,
            0.283926784992218,
            0.28301116824150085
           ],
           [
            0.2796376943588257,
            0.300363689661026,
            0.2588965594768524
           ],
           [
            0.24407625198364258,
            0.30907630920410156,
            0.28388944268226624
           ],
           [
            0.23646491765975952,
            0.28836458921432495,
            0.29694825410842896
           ],
           [
            0.24712547659873962,
            0.284035861492157,
            0.29770028591156006
           ],
           [
            0.2718839645385742,
            0.3069142699241638,
            0.25490957498550415
           ],
           [
            0.31363335251808167,
            0.4331028163433075,
            0.32011279463768005
           ],
           [
            0.26511988043785095,
            0.28888756036758423,
            0.26683226227760315
           ],
           [
            0.2427009791135788,
            0.34227660298347473,
            0.2786788046360016
           ],
           [
            0.26907333731651306,
            0.31275612115859985,
            0.29188084602355957
           ],
           [
            0.2564225196838379,
            0.34970617294311523,
            0.24965114891529083
           ],
           [
            0.25433918833732605,
            0.31887194514274597,
            0.2664140462875366
           ],
           [
            0.2529158890247345,
            0.3207719027996063,
            0.30125272274017334
           ],
           [
            0.25032809376716614,
            0.30755624175071716,
            0.273110955953598
           ],
           [
            0.27233779430389404,
            0.30656346678733826,
            0.2653355300426483
           ],
           [
            0.22059062123298645,
            0.2591562867164612,
            0.28975430130958557
           ],
           [
            0.24113166332244873,
            0.2911006212234497,
            0.3228437602519989
           ],
           [
            0.2538325786590576,
            0.3295738995075226,
            0.2927517890930176
           ],
           [
            0.2547733187675476,
            0.2874383330345154,
            0.3543012738227844
           ],
           [
            0.2600972056388855,
            0.29073211550712585,
            0.3122837245464325
           ],
           [
            0.2423366755247116,
            0.29547378420829773,
            0.2956836223602295
           ],
           [
            0.2157450169324875,
            0.3062269687652588,
            0.26050516963005066
           ],
           [
            0.2563333809375763,
            0.3179261386394501,
            0.32584142684936523
           ],
           [
            0.2502304017543793,
            0.3019932210445404,
            0.2811911106109619
           ],
           [
            0.24180907011032104,
            0.37640848755836487,
            0.2650819420814514
           ],
           [
            0.2463858425617218,
            0.3523608148097992,
            0.25393685698509216
           ],
           [
            0.26727306842803955,
            0.30907145142555237,
            0.24708259105682373
           ],
           [
            0.25508445501327515,
            0.29701918363571167,
            0.24101001024246216
           ],
           [
            0.21734373271465302,
            0.3032333254814148,
            0.301420658826828
           ],
           [
            0.23473083972930908,
            0.29373878240585327,
            0.2427939921617508
           ],
           [
            0.24701809883117676,
            0.2760045826435089,
            0.2802664637565613
           ],
           [
            0.23104168474674225,
            0.29859113693237305,
            0.27102309465408325
           ],
           [
            0.2584194242954254,
            0.2793659567832947,
            0.3006589412689209
           ],
           [
            0.2818075120449066,
            0.3256738781929016,
            0.23789462447166443
           ],
           [
            0.2543494701385498,
            0.2938903272151947,
            0.28392454981803894
           ],
           [
            0.23823687434196472,
            0.304395467042923,
            0.2725861668586731
           ],
           [
            0.2502921521663666,
            0.29578763246536255,
            0.26535606384277344
           ],
           [
            0.25357821583747864,
            0.3026510179042816,
            0.2945917248725891
           ],
           [
            0.27422401309013367,
            0.3090282380580902,
            0.2864011824131012
           ],
           [
            0.21997076272964478,
            0.2848551869392395,
            0.2541656494140625
           ],
           [
            0.2725449800491333,
            0.334492951631546,
            0.30889368057250977
           ],
           [
            0.2701553702354431,
            0.3112964928150177,
            0.27301350235939026
           ],
           [
            0.25327739119529724,
            0.3518862724304199,
            0.29321831464767456
           ],
           [
            0.24392592906951904,
            0.3577720522880554,
            0.2668699622154236
           ],
           [
            0.24458830058574677,
            0.3322363495826721,
            0.24709825217723846
           ],
           [
            0.2382071614265442,
            0.370675265789032,
            0.28847023844718933
           ],
           [
            0.2794358432292938,
            0.26790952682495117,
            0.3530004322528839
           ],
           [
            0.2589919865131378,
            0.25068265199661255,
            0.32710784673690796
           ],
           [
            0.23629014194011688,
            0.25908127427101135,
            0.3526519536972046
           ],
           [
            0.27681106328964233,
            0.24408574402332306,
            0.31796061992645264
           ],
           [
            0.2581062912940979,
            0.25812453031539917,
            0.33690065145492554
           ],
           [
            0.2717434763908386,
            0.3291248083114624,
            0.3457619249820709
           ],
           [
            0.291201114654541,
            0.4902482330799103,
            0.3328114449977875
           ],
           [
            0.27359089255332947,
            0.3304045498371124,
            0.2835302948951721
           ],
           [
            0.2625795006752014,
            0.29004406929016113,
            0.2869463860988617
           ],
           [
            0.2850690484046936,
            0.3061772584915161,
            0.26221227645874023
           ],
           [
            0.2506861686706543,
            0.2906915545463562,
            0.3213772177696228
           ],
           [
            0.25296807289123535,
            0.3380378186702728,
            0.2907973527908325
           ],
           [
            0.24316775798797607,
            0.3047541379928589,
            0.3122777044773102
           ],
           [
            0.3234976530075073,
            0.3118569254875183,
            0.30940553545951843
           ],
           [
            0.23222102224826813,
            0.306684672832489,
            0.2799631953239441
           ],
           [
            0.2506366968154907,
            0.36799970269203186,
            0.31193482875823975
           ],
           [
            0.2649885416030884,
            0.41352763772010803,
            0.2753690183162689
           ],
           [
            0.2466125637292862,
            0.3431101441383362,
            0.2743005156517029
           ],
           [
            0.24282418191432953,
            0.2999308407306671,
            0.2787603735923767
           ],
           [
            0.2454678863286972,
            0.307882696390152,
            0.27025386691093445
           ],
           [
            0.28758910298347473,
            0.3688952326774597,
            0.2893858850002289
           ],
           [
            0.27372053265571594,
            0.38306349515914917,
            0.2772964537143707
           ],
           [
            0.2730046510696411,
            0.2745843231678009,
            0.329689621925354
           ],
           [
            0.2399333119392395,
            0.30976831912994385,
            0.33917567133903503
           ],
           [
            0.24255932867527008,
            0.29162317514419556,
            0.314201295375824
           ],
           [
            0.2955801486968994,
            0.27669253945350647,
            0.2963115870952606
           ],
           [
            0.2557097375392914,
            0.30620142817497253,
            0.32909637689590454
           ]
          ],
          "colorbar": {
           "title": {
            "text": "Weights"
           }
          },
          "colorscale": [
           [
            0.0,
            "#0d0887"
           ],
           [
            0.1111111111111111,
            "#46039f"
           ],
           [
            0.2222222222222222,
            "#7201a8"
           ],
           [
            0.3333333333333333,
            "#9c179e"
           ],
           [
            0.4444444444444444,
            "#bd3786"
           ],
           [
            0.5555555555555556,
            "#d8576b"
           ],
           [
            0.6666666666666666,
            "#ed7953"
           ],
           [
            0.7777777777777778,
            "#fb9f3a"
           ],
           [
            0.8888888888888888,
            "#fdca26"
           ],
           [
            1.0,
            "#f0f921"
           ]
          ],
          "opacity": 0.8,
          "size": 5
         },
         "mode": "markers",
         "x": [
          0.53369140625,
          0.5390625,
          0.533203125,
          0.4931640625,
          0.53857421875,
          0.53564453125,
          0.5244140625,
          0.2130126953125,
          0.51953125,
          0.5185546875,
          0.50732421875,
          0.53369140625,
          0.533203125,
          0.5322265625,
          0.53466796875,
          0.5361328125,
          0.53759765625,
          0.53759765625,
          0.53759765625,
          0.53857421875,
          0.4931640625,
          0.038848876953125,
          0.33056640625,
          0.291259765625,
          0.251220703125,
          0.194091796875,
          0.364013671875,
          0.271240234375,
          0.317626953125,
          0.22705078125,
          0.197265625,
          0.157470703125,
          0.370849609375,
          0.1954345703125,
          0.0191650390625,
          0.10516357421875,
          0.31298828125,
          0.4833984375,
          0.489990234375,
          0.435302734375,
          0.40283203125,
          0.4521484375,
          0.422119140625,
          0.341064453125,
          0.501953125,
          0.494873046875,
          0.1363525390625,
          0.39453125,
          0.392333984375,
          0.387451171875,
          0.1873779296875,
          0.494140625,
          0.247314453125,
          0.182861328125,
          0.08197021484375,
          0.4375,
          0.355712890625,
          0.312255859375,
          0.0687255859375,
          0.42626953125,
          0.462158203125,
          0.36328125,
          0.375244140625,
          0.1585693359375,
          0.390625,
          0.331787109375,
          0.324951171875,
          0.25634765625,
          0.11846923828125,
          0.288818359375,
          0.108642578125,
          0.072509765625,
          0.486083984375,
          0.44384765625,
          0.412353515625,
          0.436767578125,
          0.369384765625,
          0.3896484375,
          0.380615234375,
          0.45068359375,
          0.429931640625,
          0.45849609375,
          0.4931640625,
          0.477294921875,
          0.486572265625,
          0.48828125,
          0.490478515625,
          0.493896484375,
          0.4296875,
          0.42236328125,
          0.413818359375,
          0.40576171875,
          0.3583984375,
          0.0108489990234375,
          0.53466796875,
          0.4072265625,
          0.398681640625,
          0.47607421875,
          0.406005859375,
          0.469482421875,
          0.350341796875,
          0.282958984375,
          0.3798828125,
          0.15087890625,
          0.1866455078125,
          0.2325439453125,
          0.37451171875,
          0.42529296875,
          0.394287109375,
          0.37158203125,
          0.2156982421875,
          0.1123046875,
          0.385498046875,
          0.152099609375,
          0.4248046875,
          0.421142578125,
          0.0626220703125,
          0.1453857421875,
          0.2034912109375,
          0.28515625,
          0.34326171875,
          0.38720703125,
          0.48193359375,
          0.07684326171875,
          0.11749267578125,
          0.51611328125,
          0.39892578125,
          0.0,
          0.420654296875,
          0.374267578125,
          0.1756591796875,
          0.416748046875,
          0.0303955078125,
          0.3818359375,
          0.454833984375,
          0.1800537109375,
          0.173583984375,
          0.0243682861328125,
          0.1260986328125,
          0.043487548828125,
          0.3583984375,
          0.5166015625,
          0.361083984375,
          0.0672607421875,
          0.2548828125,
          0.289306640625,
          0.380859375,
          0.09136962890625,
          0.439453125,
          0.296875,
          0.2386474609375,
          0.51318359375,
          0.5400390625,
          0.322021484375,
          0.35205078125,
          0.371826171875,
          0.08465576171875,
          0.3466796875,
          0.312744140625,
          0.27880859375,
          0.2442626953125,
          0.2213134765625,
          0.01239776611328125,
          0.2308349609375,
          0.5341796875,
          0.394287109375,
          0.427001953125,
          0.473876953125,
          0.52099609375,
          0.2354736328125,
          0.293212890625,
          0.44189453125,
          0.1201171875,
          0.37060546875,
          0.45654296875,
          0.5419921875,
          0.362060546875,
          0.04364013671875,
          0.45849609375,
          0.4521484375,
          0.446533203125,
          0.441650390625,
          0.418701171875,
          0.397705078125,
          0.387451171875,
          0.37890625,
          0.33056640625,
          0.1602783203125,
          0.45361328125,
          0.421875,
          0.390869140625,
          0.406982421875,
          0.1531982421875,
          0.468017578125,
          0.393310546875,
          0.53173828125,
          0.4873046875,
          0.52783203125,
          0.42724609375,
          0.54150390625,
          0.53955078125,
          0.464111328125,
          0.29443359375,
          0.34228515625,
          0.337646484375,
          0.25341796875,
          0.31103515625,
          0.2230224609375,
          0.4501953125,
          0.399658203125,
          0.25341796875,
          0.30908203125,
          0.2646484375,
          0.10650634765625,
          0.2086181640625,
          0.07373046875,
          0.285400390625,
          0.42822265625,
          0.437255859375,
          0.40771484375,
          0.45556640625,
          0.390625,
          0.323974609375,
          0.2626953125,
          0.210205078125,
          0.1719970703125,
          0.145263671875,
          0.0149993896484375,
          0.1829833984375,
          0.22900390625,
          0.28564453125,
          0.337158203125,
          0.37744140625,
          0.405517578125,
          0.0022678375244140625,
          0.40771484375,
          0.45849609375,
          0.469482421875,
          0.49267578125,
          0.46923828125,
          0.420166015625,
          0.501953125,
          0.5029296875,
          0.399169921875,
          0.427734375,
          0.4462890625,
          0.2071533203125,
          0.1766357421875,
          0.5693359375,
          0.8193359375,
          0.5771484375,
          0.96142578125,
          0.70703125,
          0.748046875,
          0.78759765625,
          0.83984375,
          0.67236328125,
          0.7626953125,
          0.71728515625,
          0.8046875,
          0.83251953125,
          0.87744140625,
          0.705078125,
          0.83447265625,
          0.9921875,
          0.921875,
          0.7431640625,
          0.58154296875,
          0.576171875,
          0.6279296875,
          0.65625,
          0.61181640625,
          0.63818359375,
          0.7265625,
          0.576171875,
          0.58203125,
          0.88671875,
          0.65478515625,
          0.673828125,
          0.67578125,
          0.86474609375,
          0.576171875,
          0.783203125,
          0.84326171875,
          0.92333984375,
          0.60400390625,
          0.67724609375,
          0.7509765625,
          0.95263671875,
          0.63818359375,
          0.603515625,
          0.68701171875,
          0.6767578125,
          0.8623046875,
          0.673828125,
          0.7041015625,
          0.708984375,
          0.7578125,
          0.90087890625,
          0.736328125,
          0.908203125,
          0.94189453125,
          0.58056640625,
          0.6201171875,
          0.64794921875,
          0.626953125,
          0.681640625,
          0.66845703125,
          0.67138671875,
          0.62060546875,
          0.62939453125,
          0.603515625,
          0.5712890625,
          0.59912109375,
          0.58935546875,
          0.58642578125,
          0.58056640625,
          0.57470703125,
          0.6318359375,
          0.64111328125,
          0.6513671875,
          0.65966796875,
          0.7080078125,
          0.9873046875,
          0.6494140625,
          0.6591796875,
          0.59033203125,
          0.65576171875,
          0.5966796875,
          0.69970703125,
          0.7685546875,
          0.68212890625,
          0.8603515625,
          0.8359375,
          0.7939453125,
          0.6962890625,
          0.61376953125,
          0.63232421875,
          0.64404296875,
          0.82080078125,
          0.92529296875,
          0.6494140625,
          0.875,
          0.62451171875,
          0.64892578125,
          0.96875,
          0.89794921875,
          0.8447265625,
          0.76416015625,
          0.7041015625,
          0.65966796875,
          0.56640625,
          0.96142578125,
          0.9072265625,
          0.5615234375,
          0.654296875,
          0.9912109375,
          0.62548828125,
          0.681640625,
          0.853515625,
          0.6494140625,
          0.9775390625,
          0.65087890625,
          0.6142578125,
          0.8740234375,
          0.875,
          0.99462890625,
          0.9189453125,
          0.96630859375,
          0.71728515625,
          0.552734375,
          0.69287109375,
          0.958984375,
          0.779296875,
          0.7451171875,
          0.6767578125,
          0.95068359375,
          0.63916015625,
          0.76953125,
          0.82080078125,
          0.712890625,
          0.68115234375,
          0.66064453125,
          0.93505859375,
          0.6884765625,
          0.72314453125,
          0.7568359375,
          0.79052734375,
          0.81201171875,
          0.98095703125,
          0.80224609375,
          0.6728515625,
          0.63916015625,
          0.59521484375,
          0.826171875,
          0.77490234375,
          0.64111328125,
          0.91552734375,
          0.6630859375,
          0.5986328125,
          0.71142578125,
          0.98193359375,
          0.60693359375,
          0.61572265625,
          0.62451171875,
          0.63037109375,
          0.65576171875,
          0.658203125,
          0.66748046875,
          0.67578125,
          0.73388671875,
          0.89306640625,
          0.59423828125,
          0.61376953125,
          0.642578125,
          0.6484375,
          0.8974609375,
          0.576171875,
          0.68115234375,
          0.56884765625,
          0.63232421875,
          0.6142578125,
          0.771484375,
          0.71533203125,
          0.73291015625,
          0.80517578125,
          0.74951171875,
          0.8359375,
          0.63232421875,
          0.65771484375,
          0.810546875,
          0.759765625,
          0.79736328125,
          0.93798828125,
          0.8505859375,
          0.9599609375,
          0.77685546875,
          0.62548828125,
          0.63525390625,
          0.65966796875,
          0.61767578125,
          0.6435546875,
          0.70947265625,
          0.76904296875,
          0.81982421875,
          0.85595703125,
          0.88330078125,
          1.0,
          0.85498046875,
          0.8134765625,
          0.75732421875,
          0.7041015625,
          0.66357421875,
          0.634765625,
          0.990234375,
          0.6572265625,
          0.60205078125,
          0.6064453125,
          0.58251953125,
          0.60498046875,
          0.64404296875,
          0.57470703125,
          0.56689453125,
          0.634765625,
          0.611328125,
          0.5986328125,
          0.8251953125,
          0.8515625
         ],
         "y": [
          0.67431640625,
          0.5498046875,
          0.57958984375,
          0.42041015625,
          0.5126953125,
          0.460205078125,
          0.327392578125,
          0.31201171875,
          0.245849609375,
          0.1998291015625,
          0.0019588470458984375,
          0.689453125,
          0.7021484375,
          0.70947265625,
          0.73193359375,
          0.75244140625,
          0.77685546875,
          0.80078125,
          0.865234375,
          0.5673828125,
          0.56396484375,
          0.1663818359375,
          0.33984375,
          0.34423828125,
          0.345703125,
          0.327880859375,
          0.331787109375,
          0.257080078125,
          0.260009765625,
          0.26171875,
          0.272705078125,
          0.35400390625,
          0.900390625,
          0.30517578125,
          0.327880859375,
          0.330078125,
          0.5126953125,
          0.6669921875,
          0.70166015625,
          0.6796875,
          0.69287109375,
          0.7041015625,
          0.70751953125,
          0.78515625,
          0.5498046875,
          0.5146484375,
          0.248291015625,
          0.4091796875,
          0.537109375,
          0.515625,
          0.51171875,
          0.46484375,
          0.21875,
          0.22705078125,
          0.10626220703125,
          0.255126953125,
          0.270751953125,
          0.74365234375,
          0.67529296875,
          0.55615234375,
          0.56591796875,
          0.71630859375,
          0.716796875,
          0.20263671875,
          0.5537109375,
          0.227294921875,
          0.1983642578125,
          0.0266571044921875,
          0.153564453125,
          0.1053466796875,
          0.2308349609375,
          0.1998291015625,
          0.68701171875,
          0.693359375,
          0.701171875,
          0.5625,
          0.716796875,
          0.728515625,
          0.716796875,
          0.5458984375,
          0.71142578125,
          0.70947265625,
          0.70947265625,
          0.86328125,
          0.796875,
          0.77294921875,
          0.74853515625,
          0.7294921875,
          0.72119140625,
          0.72998046875,
          0.7421875,
          0.75537109375,
          0.66455078125,
          0.47900390625,
          0.57177734375,
          0.7177734375,
          0.72265625,
          0.58056640625,
          0.57470703125,
          0.57373046875,
          0.432861328125,
          0.462890625,
          0.5322265625,
          0.05889892578125,
          0.12042236328125,
          0.189453125,
          0.814453125,
          0.2108154296875,
          0.0994873046875,
          0.0094451904296875,
          0.34033203125,
          0.381103515625,
          0.3232421875,
          0.286865234375,
          0.38427734375,
          0.52392578125,
          0.4072265625,
          0.408447265625,
          0.423095703125,
          0.414306640625,
          0.396484375,
          0.379150390625,
          0.3369140625,
          0.489990234375,
          0.284912109375,
          0.56689453125,
          0.449462890625,
          0.31396484375,
          0.359619140625,
          0.53173828125,
          0.30712890625,
          0.498046875,
          0.57275390625,
          0.309814453125,
          0.477783203125,
          0.79248046875,
          0.82763671875,
          0.486572265625,
          0.7333984375,
          0.25634765625,
          0.93701171875,
          0.57080078125,
          0.479248046875,
          0.336181640625,
          0.319580078125,
          0.320068359375,
          0.734375,
          0.56640625,
          0.9921875,
          0.9267578125,
          0.88525390625,
          0.09637451171875,
          1.0,
          0.3173828125,
          0.313232421875,
          0.3115234375,
          0.276611328125,
          0.295166015625,
          0.290283203125,
          0.28955078125,
          0.29345703125,
          0.298583984375,
          0.2308349609375,
          0.316162109375,
          0.6123046875,
          0.63671875,
          0.55029296875,
          0.61767578125,
          0.283203125,
          0.84814453125,
          0.89208984375,
          0.97021484375,
          0.76220703125,
          0.303466796875,
          0.39892578125,
          0.97802734375,
          0.96484375,
          0.57177734375,
          0.72509765625,
          0.7392578125,
          0.7578125,
          0.779296875,
          0.84326171875,
          0.71142578125,
          0.70849609375,
          0.7041015625,
          0.70166015625,
          0.59326171875,
          0.357421875,
          0.29150390625,
          0.29296875,
          0.7138671875,
          0.68408203125,
          0.296875,
          0.86767578125,
          0.414306640625,
          0.38037109375,
          0.371337890625,
          0.4609375,
          0.94091796875,
          0.8984375,
          0.89404296875,
          0.79052734375,
          0.5654296875,
          0.833984375,
          0.5625,
          0.60888671875,
          0.62646484375,
          0.93408203125,
          0.48193359375,
          0.81201171875,
          0.85791015625,
          0.73974609375,
          0.6318359375,
          0.73681640625,
          0.6533203125,
          0.666015625,
          0.423095703125,
          0.54052734375,
          0.54931640625,
          0.517578125,
          0.267333984375,
          0.2479248046875,
          0.2425537109375,
          0.248046875,
          0.26220703125,
          0.318603515625,
          0.40576171875,
          0.369384765625,
          0.3798828125,
          0.377197265625,
          0.366455078125,
          0.3544921875,
          0.343017578125,
          0.39501953125,
          0.55908203125,
          0.43701171875,
          0.5439453125,
          0.56005859375,
          0.54833984375,
          0.5693359375,
          0.564453125,
          0.56884765625,
          0.3125,
          0.32421875,
          0.33349609375,
          0.302490234375,
          0.287109375,
          0.417724609375,
          0.29296875,
          0.560546875,
          0.13671875,
          0.331787109375,
          0.3330078125,
          0.33056640625,
          0.3056640625,
          0.32568359375,
          0.2427978515625,
          0.2489013671875,
          0.2437744140625,
          0.252197265625,
          0.32958984375,
          0.8896484375,
          0.28271484375,
          0.296142578125,
          0.302490234375,
          0.498046875,
          0.6640625,
          0.69873046875,
          0.67431640625,
          0.685546875,
          0.69921875,
          0.701171875,
          0.7705078125,
          0.54736328125,
          0.51171875,
          0.225341796875,
          0.39990234375,
          0.52734375,
          0.50537109375,
          0.4892578125,
          0.4619140625,
          0.2042236328125,
          0.207763671875,
          0.07843017578125,
          0.25439453125,
          0.2626953125,
          0.72705078125,
          0.6474609375,
          0.54833984375,
          0.56103515625,
          0.7080078125,
          0.708984375,
          0.181396484375,
          0.5439453125,
          0.21875,
          0.188720703125,
          0.0094451904296875,
          0.12548828125,
          0.08856201171875,
          0.2052001953125,
          0.170166015625,
          0.68408203125,
          0.6884765625,
          0.69384765625,
          0.5556640625,
          0.70849609375,
          0.720703125,
          0.708984375,
          0.53955078125,
          0.705078125,
          0.70458984375,
          0.70654296875,
          0.859375,
          0.7939453125,
          0.76953125,
          0.7451171875,
          0.7265625,
          0.71484375,
          0.72314453125,
          0.7353515625,
          0.74853515625,
          0.6513671875,
          0.44873046875,
          0.7109375,
          0.71533203125,
          0.5771484375,
          0.56640625,
          0.5693359375,
          0.420654296875,
          0.446533203125,
          0.52197265625,
          0.034820556640625,
          0.09637451171875,
          0.1732177734375,
          0.802734375,
          0.20849609375,
          0.090576171875,
          0.0,
          0.321533203125,
          0.353271484375,
          0.318359375,
          0.263427734375,
          0.376953125,
          0.51611328125,
          0.378173828125,
          0.383056640625,
          0.402587890625,
          0.40087890625,
          0.3876953125,
          0.3740234375,
          0.333740234375,
          0.46142578125,
          0.259033203125,
          0.56494140625,
          0.440185546875,
          0.28271484375,
          0.357666015625,
          0.52099609375,
          0.283447265625,
          0.48974609375,
          0.54345703125,
          0.30517578125,
          0.47216796875,
          0.76953125,
          0.8056640625,
          0.455078125,
          0.70703125,
          0.2259521484375,
          0.92578125,
          0.5693359375,
          0.4677734375,
          0.30517578125,
          0.30615234375,
          0.31005859375,
          0.7265625,
          0.5380859375,
          0.986328125,
          0.912109375,
          0.8671875,
          0.309326171875,
          0.306640625,
          0.305908203125,
          0.246826171875,
          0.28564453125,
          0.277587890625,
          0.27392578125,
          0.2744140625,
          0.27783203125,
          0.2000732421875,
          0.2998046875,
          0.626953125,
          0.54248046875,
          0.61376953125,
          0.8291015625,
          0.876953125,
          0.9638671875,
          0.73681640625,
          0.297119140625,
          0.393798828125,
          0.95458984375,
          0.54150390625,
          0.7197265625,
          0.73388671875,
          0.75244140625,
          0.7744140625,
          0.83447265625,
          0.7041015625,
          0.70068359375,
          0.69580078125,
          0.6865234375,
          0.56884765625,
          0.352294921875,
          0.2890625,
          0.2880859375,
          0.70703125,
          0.6591796875,
          0.29833984375,
          0.85791015625,
          0.377197265625,
          0.453857421875,
          0.888671875,
          0.7744140625,
          0.55224609375,
          0.8203125,
          0.5439453125,
          0.59375,
          0.60595703125,
          0.92822265625,
          0.47265625,
          0.79345703125,
          0.84326171875,
          0.72119140625,
          0.60400390625,
          0.71484375,
          0.6240234375,
          0.64892578125,
          0.416259765625,
          0.53369140625,
          0.54052734375,
          0.51171875,
          0.262451171875,
          0.2379150390625,
          0.227783203125,
          0.2291259765625,
          0.2403564453125,
          0.293701171875,
          0.373779296875,
          0.347412109375,
          0.362060546875,
          0.3642578125,
          0.357666015625,
          0.3486328125,
          0.33935546875,
          0.364013671875,
          0.55029296875,
          0.431884765625,
          0.5390625,
          0.55712890625,
          0.54345703125,
          0.5615234375,
          0.5615234375,
          0.56640625,
          0.308837890625,
          0.322509765625,
          0.33349609375,
          0.28076171875,
          0.264404296875
         ],
         "z": [
          0.18310546875,
          0.024261474609375,
          0.1812744140625,
          0.087890625,
          0.0,
          0.0180816650390625,
          0.1624755859375,
          0.37939453125,
          0.18896484375,
          0.171142578125,
          0.22119140625,
          0.19189453125,
          0.2139892578125,
          0.2476806640625,
          0.2705078125,
          0.26953125,
          0.264404296875,
          0.284912109375,
          0.361083984375,
          0.05682373046875,
          0.1361083984375,
          0.634765625,
          0.33154296875,
          0.33154296875,
          0.34375,
          0.386962890625,
          0.33642578125,
          0.293701171875,
          0.297607421875,
          0.30859375,
          0.33203125,
          0.4140625,
          0.417724609375,
          0.3955078125,
          0.66845703125,
          0.46728515625,
          0.29052734375,
          0.1885986328125,
          0.2203369140625,
          0.2222900390625,
          0.266357421875,
          0.24169921875,
          0.281494140625,
          0.375732421875,
          0.026763916015625,
          0.004032135009765625,
          0.338134765625,
          0.272705078125,
          0.1680908203125,
          0.18408203125,
          0.351318359375,
          0.0350341796875,
          0.2353515625,
          0.27734375,
          0.51171875,
          0.2041015625,
          0.320556640625,
          0.378662109375,
          0.87646484375,
          0.197265625,
          0.190673828125,
          0.368896484375,
          0.35205078125,
          0.303955078125,
          0.202880859375,
          0.2100830078125,
          0.1942138671875,
          0.28466796875,
          0.390869140625,
          0.2333984375,
          0.3876953125,
          0.50244140625,
          0.197265625,
          0.2288818359375,
          0.268310546875,
          0.2078857421875,
          0.359130859375,
          0.33154296875,
          0.350341796875,
          0.11248779296875,
          0.29541015625,
          0.2705078125,
          0.252197265625,
          0.356201171875,
          0.2822265625,
          0.26611328125,
          0.27294921875,
          0.2744140625,
          0.311279296875,
          0.306640625,
          0.301513671875,
          0.31396484375,
          0.27880859375,
          0.9375,
          0.136962890625,
          0.33544921875,
          0.331298828125,
          0.1932373046875,
          0.250732421875,
          0.189697265625,
          0.292724609375,
          0.306640625,
          0.2196044921875,
          0.38623046875,
          0.30419921875,
          0.2445068359375,
          0.36181640625,
          0.174072265625,
          0.1968994140625,
          0.2286376953125,
          0.36572265625,
          0.447021484375,
          0.345703125,
          0.380615234375,
          0.24951171875,
          0.10919189453125,
          0.51171875,
          0.398681640625,
          0.350341796875,
          0.3271484375,
          0.318115234375,
          0.302001953125,
          0.18408203125,
          0.5048828125,
          0.406005859375,
          0.058868408203125,
          0.254150390625,
          0.87158203125,
          0.29296875,
          0.281494140625,
          0.404541015625,
          0.129150390625,
          0.921875,
          0.360595703125,
          0.0703125,
          0.59033203125,
          0.70068359375,
          0.71728515625,
          0.64794921875,
          0.60205078125,
          0.456298828125,
          0.1396484375,
          0.277587890625,
          0.5263671875,
          0.348876953125,
          0.3369140625,
          0.341552734375,
          0.53515625,
          0.491455078125,
          0.580078125,
          0.6318359375,
          0.1922607421875,
          0.484130859375,
          0.336181640625,
          0.345458984375,
          0.3583984375,
          0.46435546875,
          0.33544921875,
          0.31982421875,
          0.31982421875,
          0.332275390625,
          0.351318359375,
          0.76513671875,
          0.364990234375,
          0.1981201171875,
          0.248046875,
          0.17236328125,
          0.2001953125,
          0.2001953125,
          0.548828125,
          0.505859375,
          0.41357421875,
          0.7919921875,
          0.349853515625,
          0.1719970703125,
          0.4091796875,
          0.525390625,
          0.720703125,
          0.290283203125,
          0.286865234375,
          0.28271484375,
          0.2958984375,
          0.35009765625,
          0.317138671875,
          0.316162109375,
          0.3154296875,
          0.32568359375,
          0.423828125,
          0.2208251953125,
          0.31591796875,
          0.337158203125,
          0.32666015625,
          0.529296875,
          0.2418212890625,
          0.389892578125,
          0.06878662109375,
          0.13037109375,
          0.11822509765625,
          0.1788330078125,
          0.373779296875,
          0.369873046875,
          0.373779296875,
          0.412841796875,
          0.296875,
          0.403564453125,
          0.31689453125,
          0.30859375,
          0.371826171875,
          0.380615234375,
          0.22314453125,
          0.47314453125,
          0.4541015625,
          0.40625,
          0.56787109375,
          0.462890625,
          0.70849609375,
          0.342041015625,
          0.2159423828125,
          0.098876953125,
          0.163330078125,
          0.051971435546875,
          0.292236328125,
          0.27099609375,
          0.2685546875,
          0.2890625,
          0.325927734375,
          0.42578125,
          0.69482421875,
          0.388671875,
          0.356201171875,
          0.33544921875,
          0.331298828125,
          0.326904296875,
          0.3251953125,
          0.92529296875,
          0.1942138671875,
          0.130126953125,
          0.053436279296875,
          0.08074951171875,
          0.0836181640625,
          0.2166748046875,
          0.06573486328125,
          0.137939453125,
          0.3515625,
          0.31689453125,
          0.274169921875,
          0.3701171875,
          0.3671875,
          0.09246826171875,
          0.41943359375,
          0.142333984375,
          0.69189453125,
          0.356201171875,
          0.361572265625,
          0.37890625,
          0.429443359375,
          0.357177734375,
          0.325439453125,
          0.323974609375,
          0.3466796875,
          0.374267578125,
          0.462646484375,
          0.442138671875,
          0.437744140625,
          0.73486328125,
          0.5224609375,
          0.31982421875,
          0.1947021484375,
          0.2255859375,
          0.23388671875,
          0.281494140625,
          0.2509765625,
          0.294921875,
          0.401611328125,
          0.03240966796875,
          0.01045989990234375,
          0.388427734375,
          0.289306640625,
          0.1873779296875,
          0.203857421875,
          0.39697265625,
          0.040313720703125,
          0.2724609375,
          0.322265625,
          0.564453125,
          0.2158203125,
          0.341796875,
          0.40771484375,
          0.93310546875,
          0.2117919921875,
          0.2015380859375,
          0.388671875,
          0.371337890625,
          0.35205078125,
          0.2227783203125,
          0.2359619140625,
          0.220947265625,
          0.316650390625,
          0.4443359375,
          0.264404296875,
          0.441650390625,
          0.56103515625,
          0.202880859375,
          0.2393798828125,
          0.282958984375,
          0.2218017578125,
          0.37890625,
          0.349609375,
          0.368896484375,
          0.12347412109375,
          0.3076171875,
          0.279052734375,
          0.256591796875,
          0.365478515625,
          0.289794921875,
          0.272705078125,
          0.278564453125,
          0.279541015625,
          0.32373046875,
          0.321044921875,
          0.31787109375,
          0.331298828125,
          0.3017578125,
          1.0,
          0.350341796875,
          0.347900390625,
          0.201416015625,
          0.26904296875,
          0.19921875,
          0.315673828125,
          0.339111328125,
          0.2406005859375,
          0.431396484375,
          0.34912109375,
          0.28271484375,
          0.38427734375,
          0.1873779296875,
          0.2137451171875,
          0.2467041015625,
          0.4052734375,
          0.501953125,
          0.363037109375,
          0.4287109375,
          0.261962890625,
          0.12493896484375,
          0.5732421875,
          0.449462890625,
          0.393310546875,
          0.359375,
          0.341796875,
          0.320068359375,
          0.189453125,
          0.564453125,
          0.45849609375,
          0.061981201171875,
          0.270751953125,
          0.9345703125,
          0.306396484375,
          0.303466796875,
          0.449462890625,
          0.145263671875,
          0.98291015625,
          0.378173828125,
          0.08111572265625,
          0.638671875,
          0.74658203125,
          0.783203125,
          0.7021484375,
          0.6640625,
          0.48193359375,
          0.142333984375,
          0.300048828125,
          0.58642578125,
          0.383544921875,
          0.36669921875,
          0.3603515625,
          0.59375,
          0.5048828125,
          0.61083984375,
          0.66943359375,
          0.36181640625,
          0.366943359375,
          0.377197265625,
          0.52099609375,
          0.357421875,
          0.346435546875,
          0.350830078125,
          0.36767578125,
          0.39013671875,
          0.82568359375,
          0.402587890625,
          0.26708984375,
          0.1873779296875,
          0.2083740234375,
          0.59033203125,
          0.5400390625,
          0.427978515625,
          0.8427734375,
          0.368408203125,
          0.18115234375,
          0.5478515625,
          0.78515625,
          0.299560546875,
          0.297607421875,
          0.294677734375,
          0.308837890625,
          0.366943359375,
          0.333251953125,
          0.3330078125,
          0.333251953125,
          0.3515625,
          0.4736328125,
          0.2294921875,
          0.328857421875,
          0.353515625,
          0.341552734375,
          0.580078125,
          0.2493896484375,
          0.41064453125,
          0.1357421875,
          0.1927490234375,
          0.385009765625,
          0.446044921875,
          0.32275390625,
          0.431884765625,
          0.354736328125,
          0.33837890625,
          0.41357421875,
          0.3935546875,
          0.24072265625,
          0.5126953125,
          0.486572265625,
          0.4423828125,
          0.62548828125,
          0.50732421875,
          0.76904296875,
          0.374755859375,
          0.228515625,
          0.11224365234375,
          0.180908203125,
          0.06292724609375,
          0.308837890625,
          0.29736328125,
          0.30322265625,
          0.330322265625,
          0.3720703125,
          0.475341796875,
          0.76171875,
          0.433349609375,
          0.395263671875,
          0.366943359375,
          0.35546875,
          0.34619140625,
          0.34033203125,
          0.98779296875,
          0.2119140625,
          0.1392822265625,
          0.06317138671875,
          0.08758544921875,
          0.0931396484375,
          0.233154296875,
          0.0711669921875,
          0.142822265625,
          0.367431640625,
          0.32958984375,
          0.28466796875,
          0.410888671875,
          0.41259765625
         ],
         "type": "scatter3d"
        }
       ],
       "layout": {
        "template": {
         "data": {
          "histogram2dcontour": [
           {
            "type": "histogram2dcontour",
            "colorbar": {
             "outlinewidth": 0,
             "ticks": ""
            },
            "colorscale": [
             [
              0.0,
              "#0d0887"
             ],
             [
              0.1111111111111111,
              "#46039f"
             ],
             [
              0.2222222222222222,
              "#7201a8"
             ],
             [
              0.3333333333333333,
              "#9c179e"
             ],
             [
              0.4444444444444444,
              "#bd3786"
             ],
             [
              0.5555555555555556,
              "#d8576b"
             ],
             [
              0.6666666666666666,
              "#ed7953"
             ],
             [
              0.7777777777777778,
              "#fb9f3a"
             ],
             [
              0.8888888888888888,
              "#fdca26"
             ],
             [
              1.0,
              "#f0f921"
             ]
            ]
           }
          ],
          "choropleth": [
           {
            "type": "choropleth",
            "colorbar": {
             "outlinewidth": 0,
             "ticks": ""
            }
           }
          ],
          "histogram2d": [
           {
            "type": "histogram2d",
            "colorbar": {
             "outlinewidth": 0,
             "ticks": ""
            },
            "colorscale": [
             [
              0.0,
              "#0d0887"
             ],
             [
              0.1111111111111111,
              "#46039f"
             ],
             [
              0.2222222222222222,
              "#7201a8"
             ],
             [
              0.3333333333333333,
              "#9c179e"
             ],
             [
              0.4444444444444444,
              "#bd3786"
             ],
             [
              0.5555555555555556,
              "#d8576b"
             ],
             [
              0.6666666666666666,
              "#ed7953"
             ],
             [
              0.7777777777777778,
              "#fb9f3a"
             ],
             [
              0.8888888888888888,
              "#fdca26"
             ],
             [
              1.0,
              "#f0f921"
             ]
            ]
           }
          ],
          "heatmap": [
           {
            "type": "heatmap",
            "colorbar": {
             "outlinewidth": 0,
             "ticks": ""
            },
            "colorscale": [
             [
              0.0,
              "#0d0887"
             ],
             [
              0.1111111111111111,
              "#46039f"
             ],
             [
              0.2222222222222222,
              "#7201a8"
             ],
             [
              0.3333333333333333,
              "#9c179e"
             ],
             [
              0.4444444444444444,
              "#bd3786"
             ],
             [
              0.5555555555555556,
              "#d8576b"
             ],
             [
              0.6666666666666666,
              "#ed7953"
             ],
             [
              0.7777777777777778,
              "#fb9f3a"
             ],
             [
              0.8888888888888888,
              "#fdca26"
             ],
             [
              1.0,
              "#f0f921"
             ]
            ]
           }
          ],
          "heatmapgl": [
           {
            "type": "heatmapgl",
            "colorbar": {
             "outlinewidth": 0,
             "ticks": ""
            },
            "colorscale": [
             [
              0.0,
              "#0d0887"
             ],
             [
              0.1111111111111111,
              "#46039f"
             ],
             [
              0.2222222222222222,
              "#7201a8"
             ],
             [
              0.3333333333333333,
              "#9c179e"
             ],
             [
              0.4444444444444444,
              "#bd3786"
             ],
             [
              0.5555555555555556,
              "#d8576b"
             ],
             [
              0.6666666666666666,
              "#ed7953"
             ],
             [
              0.7777777777777778,
              "#fb9f3a"
             ],
             [
              0.8888888888888888,
              "#fdca26"
             ],
             [
              1.0,
              "#f0f921"
             ]
            ]
           }
          ],
          "contourcarpet": [
           {
            "type": "contourcarpet",
            "colorbar": {
             "outlinewidth": 0,
             "ticks": ""
            }
           }
          ],
          "contour": [
           {
            "type": "contour",
            "colorbar": {
             "outlinewidth": 0,
             "ticks": ""
            },
            "colorscale": [
             [
              0.0,
              "#0d0887"
             ],
             [
              0.1111111111111111,
              "#46039f"
             ],
             [
              0.2222222222222222,
              "#7201a8"
             ],
             [
              0.3333333333333333,
              "#9c179e"
             ],
             [
              0.4444444444444444,
              "#bd3786"
             ],
             [
              0.5555555555555556,
              "#d8576b"
             ],
             [
              0.6666666666666666,
              "#ed7953"
             ],
             [
              0.7777777777777778,
              "#fb9f3a"
             ],
             [
              0.8888888888888888,
              "#fdca26"
             ],
             [
              1.0,
              "#f0f921"
             ]
            ]
           }
          ],
          "surface": [
           {
            "type": "surface",
            "colorbar": {
             "outlinewidth": 0,
             "ticks": ""
            },
            "colorscale": [
             [
              0.0,
              "#0d0887"
             ],
             [
              0.1111111111111111,
              "#46039f"
             ],
             [
              0.2222222222222222,
              "#7201a8"
             ],
             [
              0.3333333333333333,
              "#9c179e"
             ],
             [
              0.4444444444444444,
              "#bd3786"
             ],
             [
              0.5555555555555556,
              "#d8576b"
             ],
             [
              0.6666666666666666,
              "#ed7953"
             ],
             [
              0.7777777777777778,
              "#fb9f3a"
             ],
             [
              0.8888888888888888,
              "#fdca26"
             ],
             [
              1.0,
              "#f0f921"
             ]
            ]
           }
          ],
          "mesh3d": [
           {
            "type": "mesh3d",
            "colorbar": {
             "outlinewidth": 0,
             "ticks": ""
            }
           }
          ],
          "scatter": [
           {
            "fillpattern": {
             "fillmode": "overlay",
             "size": 10,
             "solidity": 0.2
            },
            "type": "scatter"
           }
          ],
          "parcoords": [
           {
            "type": "parcoords",
            "line": {
             "colorbar": {
              "outlinewidth": 0,
              "ticks": ""
             }
            }
           }
          ],
          "scatterpolargl": [
           {
            "type": "scatterpolargl",
            "marker": {
             "colorbar": {
              "outlinewidth": 0,
              "ticks": ""
             }
            }
           }
          ],
          "bar": [
           {
            "error_x": {
             "color": "#2a3f5f"
            },
            "error_y": {
             "color": "#2a3f5f"
            },
            "marker": {
             "line": {
              "color": "#E5ECF6",
              "width": 0.5
             },
             "pattern": {
              "fillmode": "overlay",
              "size": 10,
              "solidity": 0.2
             }
            },
            "type": "bar"
           }
          ],
          "scattergeo": [
           {
            "type": "scattergeo",
            "marker": {
             "colorbar": {
              "outlinewidth": 0,
              "ticks": ""
             }
            }
           }
          ],
          "scatterpolar": [
           {
            "type": "scatterpolar",
            "marker": {
             "colorbar": {
              "outlinewidth": 0,
              "ticks": ""
             }
            }
           }
          ],
          "histogram": [
           {
            "marker": {
             "pattern": {
              "fillmode": "overlay",
              "size": 10,
              "solidity": 0.2
             }
            },
            "type": "histogram"
           }
          ],
          "scattergl": [
           {
            "type": "scattergl",
            "marker": {
             "colorbar": {
              "outlinewidth": 0,
              "ticks": ""
             }
            }
           }
          ],
          "scatter3d": [
           {
            "type": "scatter3d",
            "line": {
             "colorbar": {
              "outlinewidth": 0,
              "ticks": ""
             }
            },
            "marker": {
             "colorbar": {
              "outlinewidth": 0,
              "ticks": ""
             }
            }
           }
          ],
          "scattermapbox": [
           {
            "type": "scattermapbox",
            "marker": {
             "colorbar": {
              "outlinewidth": 0,
              "ticks": ""
             }
            }
           }
          ],
          "scatterternary": [
           {
            "type": "scatterternary",
            "marker": {
             "colorbar": {
              "outlinewidth": 0,
              "ticks": ""
             }
            }
           }
          ],
          "scattercarpet": [
           {
            "type": "scattercarpet",
            "marker": {
             "colorbar": {
              "outlinewidth": 0,
              "ticks": ""
             }
            }
           }
          ],
          "carpet": [
           {
            "aaxis": {
             "endlinecolor": "#2a3f5f",
             "gridcolor": "white",
             "linecolor": "white",
             "minorgridcolor": "white",
             "startlinecolor": "#2a3f5f"
            },
            "baxis": {
             "endlinecolor": "#2a3f5f",
             "gridcolor": "white",
             "linecolor": "white",
             "minorgridcolor": "white",
             "startlinecolor": "#2a3f5f"
            },
            "type": "carpet"
           }
          ],
          "table": [
           {
            "cells": {
             "fill": {
              "color": "#EBF0F8"
             },
             "line": {
              "color": "white"
             }
            },
            "header": {
             "fill": {
              "color": "#C8D4E3"
             },
             "line": {
              "color": "white"
             }
            },
            "type": "table"
           }
          ],
          "barpolar": [
           {
            "marker": {
             "line": {
              "color": "#E5ECF6",
              "width": 0.5
             },
             "pattern": {
              "fillmode": "overlay",
              "size": 10,
              "solidity": 0.2
             }
            },
            "type": "barpolar"
           }
          ],
          "pie": [
           {
            "automargin": true,
            "type": "pie"
           }
          ]
         },
         "layout": {
          "autotypenumbers": "strict",
          "colorway": [
           "#636efa",
           "#EF553B",
           "#00cc96",
           "#ab63fa",
           "#FFA15A",
           "#19d3f3",
           "#FF6692",
           "#B6E880",
           "#FF97FF",
           "#FECB52"
          ],
          "font": {
           "color": "#2a3f5f"
          },
          "hovermode": "closest",
          "hoverlabel": {
           "align": "left"
          },
          "paper_bgcolor": "white",
          "plot_bgcolor": "#E5ECF6",
          "polar": {
           "bgcolor": "#E5ECF6",
           "angularaxis": {
            "gridcolor": "white",
            "linecolor": "white",
            "ticks": ""
           },
           "radialaxis": {
            "gridcolor": "white",
            "linecolor": "white",
            "ticks": ""
           }
          },
          "ternary": {
           "bgcolor": "#E5ECF6",
           "aaxis": {
            "gridcolor": "white",
            "linecolor": "white",
            "ticks": ""
           },
           "baxis": {
            "gridcolor": "white",
            "linecolor": "white",
            "ticks": ""
           },
           "caxis": {
            "gridcolor": "white",
            "linecolor": "white",
            "ticks": ""
           }
          },
          "coloraxis": {
           "colorbar": {
            "outlinewidth": 0,
            "ticks": ""
           }
          },
          "colorscale": {
           "sequential": [
            [
             0.0,
             "#0d0887"
            ],
            [
             0.1111111111111111,
             "#46039f"
            ],
            [
             0.2222222222222222,
             "#7201a8"
            ],
            [
             0.3333333333333333,
             "#9c179e"
            ],
            [
             0.4444444444444444,
             "#bd3786"
            ],
            [
             0.5555555555555556,
             "#d8576b"
            ],
            [
             0.6666666666666666,
             "#ed7953"
            ],
            [
             0.7777777777777778,
             "#fb9f3a"
            ],
            [
             0.8888888888888888,
             "#fdca26"
            ],
            [
             1.0,
             "#f0f921"
            ]
           ],
           "sequentialminus": [
            [
             0.0,
             "#0d0887"
            ],
            [
             0.1111111111111111,
             "#46039f"
            ],
            [
             0.2222222222222222,
             "#7201a8"
            ],
            [
             0.3333333333333333,
             "#9c179e"
            ],
            [
             0.4444444444444444,
             "#bd3786"
            ],
            [
             0.5555555555555556,
             "#d8576b"
            ],
            [
             0.6666666666666666,
             "#ed7953"
            ],
            [
             0.7777777777777778,
             "#fb9f3a"
            ],
            [
             0.8888888888888888,
             "#fdca26"
            ],
            [
             1.0,
             "#f0f921"
            ]
           ],
           "diverging": [
            [
             0,
             "#8e0152"
            ],
            [
             0.1,
             "#c51b7d"
            ],
            [
             0.2,
             "#de77ae"
            ],
            [
             0.3,
             "#f1b6da"
            ],
            [
             0.4,
             "#fde0ef"
            ],
            [
             0.5,
             "#f7f7f7"
            ],
            [
             0.6,
             "#e6f5d0"
            ],
            [
             0.7,
             "#b8e186"
            ],
            [
             0.8,
             "#7fbc41"
            ],
            [
             0.9,
             "#4d9221"
            ],
            [
             1,
             "#276419"
            ]
           ]
          },
          "xaxis": {
           "gridcolor": "white",
           "linecolor": "white",
           "ticks": "",
           "title": {
            "standoff": 15
           },
           "zerolinecolor": "white",
           "automargin": true,
           "zerolinewidth": 2
          },
          "yaxis": {
           "gridcolor": "white",
           "linecolor": "white",
           "ticks": "",
           "title": {
            "standoff": 15
           },
           "zerolinecolor": "white",
           "automargin": true,
           "zerolinewidth": 2
          },
          "scene": {
           "xaxis": {
            "backgroundcolor": "#E5ECF6",
            "gridcolor": "white",
            "linecolor": "white",
            "showbackground": true,
            "ticks": "",
            "zerolinecolor": "white",
            "gridwidth": 2
           },
           "yaxis": {
            "backgroundcolor": "#E5ECF6",
            "gridcolor": "white",
            "linecolor": "white",
            "showbackground": true,
            "ticks": "",
            "zerolinecolor": "white",
            "gridwidth": 2
           },
           "zaxis": {
            "backgroundcolor": "#E5ECF6",
            "gridcolor": "white",
            "linecolor": "white",
            "showbackground": true,
            "ticks": "",
            "zerolinecolor": "white",
            "gridwidth": 2
           }
          },
          "shapedefaults": {
           "line": {
            "color": "#2a3f5f"
           }
          },
          "annotationdefaults": {
           "arrowcolor": "#2a3f5f",
           "arrowhead": 0,
           "arrowwidth": 1
          },
          "geo": {
           "bgcolor": "white",
           "landcolor": "#E5ECF6",
           "subunitcolor": "white",
           "showland": true,
           "showlakes": true,
           "lakecolor": "white"
          },
          "title": {
           "x": 0.05
          },
          "mapbox": {
           "style": "light"
          }
         }
        },
        "title": {
         "text": "3D Landmarks for Expression"
        },
        "scene": {
         "xaxis": {
          "title": {
           "text": "X"
          }
         },
         "yaxis": {
          "title": {
           "text": "Y"
          }
         },
         "zaxis": {
          "title": {
           "text": "Z"
          }
         }
        }
       },
       "config": {
        "plotlyServerURL": "https://plot.ly"
       }
      },
      "text/html": "<div>                            <div id=\"ccd60b46-10f3-4fdc-a981-f85158e9053a\" class=\"plotly-graph-div\" style=\"height:525px; width:100%;\"></div>            <script type=\"text/javascript\">                require([\"plotly\"], function(Plotly) {                    window.PLOTLYENV=window.PLOTLYENV || {};                                    if (document.getElementById(\"ccd60b46-10f3-4fdc-a981-f85158e9053a\")) {                    Plotly.newPlot(                        \"ccd60b46-10f3-4fdc-a981-f85158e9053a\",                        [{\"marker\":{\"color\":[[0.26709967851638794,0.31107407808303833,0.28634747862815857],[0.29906997084617615,0.26962581276893616,0.27054768800735474],[0.291608065366745,0.4750252068042755,0.2595873773097992],[0.2813291549682617,0.3369671404361725,0.28226080536842346],[0.27324536442756653,0.6404968500137329,0.0],[0.28232845664024353,0.2659231722354889,0.26888328790664673],[0.281760036945343,0.36859452724456787,0.2960255742073059],[0.29751479625701904,0.2530994415283203,0.3085457682609558],[0.2804238498210907,0.2813490629196167,0.3027363121509552],[0.32998818159103394,0.30410438776016235,0.3248613476753235],[0.2569526433944702,0.27411720156669617,0.2285759598016739],[0.27645859122276306,0.3652173578739166,0.30682680010795593],[0.29101261496543884,0.3576546609401703,0.28436559438705444],[0.28182950615882874,0.3060297667980194,0.3165470063686371],[0.28106728196144104,0.2664330005645752,0.2751936614513397],[0.25920289754867554,0.3282952904701233,0.2517179846763611],[0.2776370644569397,0.2866208553314209,0.2532329857349396],[0.26334038376808167,0.33684736490249634,0.2423943132162094],[0.31298714876174927,0.288627952337265,0.2718590497970581],[0.25534653663635254,0.653296172618866,0.31785720586776733],[0.2493596076965332,0.4014354944229126,0.2960939109325409],[0.24971267580986023,0.2897717356681824,0.28257763385772705],[0.2621060013771057,0.3034316301345825,0.3082335889339447],[0.28748294711112976,0.3041408658027649,0.3210800886154175],[0.3100161850452423,0.3144427239894867,0.34279170632362366],[0.2554791569709778,0.31176626682281494,0.322812557220459],[0.2710723578929901,0.3383655846118927,0.3071303069591522],[0.3494580090045929,0.33894839882850647,0.4050277769565582],[0.293701708316803,0.3341241478919983,0.31296414136886597],[0.26298150420188904,0.3448469638824463,0.34442469477653503],[0.2734646201133728,0.26415693759918213,0.3407216966152191],[0.32491597533226013,0.27648207545280457,0.3068014979362488],[0.28057661652565,0.7057406902313232,0.26123732328414917],[0.2587030529975891,0.3010751008987427,0.3038920760154724],[0.28227484226226807,0.2554415762424469,0.2775808274745941],[0.2876589298248291,0.2757875621318817,0.2891879081726074],[0.2749113142490387,0.29893696308135986,0.28930380940437317],[0.26463353633880615,0.29273027181625366,0.26431703567504883],[0.2962479293346405,0.3187994062900543,0.27348434925079346],[0.3026798963546753,0.307895690202713,0.31542259454727173],[0.3075557351112366,0.32366034388542175,0.25999894738197327],[0.28925493359565735,0.3144310414791107,0.26577848196029663],[0.2803412675857544,0.3500164747238159,0.2928828299045563],[0.35761988162994385,0.42926695942878723,0.2897016704082489],[0.2590947151184082,0.5998010635375977,0.23596030473709106],[0.24888300895690918,0.34489914774894714,0.260931134223938],[0.24115701019763947,0.33600515127182007,0.3087857663631439],[0.25380927324295044,0.28780680894851685,0.3137120306491852],[0.2634204626083374,0.32611292600631714,0.2792210280895233],[0.2870103716850281,0.28519320487976074,0.2826964259147644],[0.2693924903869629,0.32464566826820374,0.3200308382511139],[0.28179043531417847,0.49136021733283997,0.26562201976776123],[0.2692091464996338,0.4191097915172577,0.3759821653366089],[0.30482253432273865,0.32022225856781006,0.3452381193637848],[0.2871930003166199,0.26188787817955017,0.3401825726032257],[0.290549099445343,0.3640948235988617,0.34173640608787537],[0.2976093292236328,0.2679072916507721,0.30208295583724976],[0.2897305488586426,0.38375574350357056,0.25051066279411316],[0.281839519739151,0.29317939281463623,0.2617221474647522],[0.31586506962776184,0.28159093856811523,0.2988855242729187],[0.2800438702106476,0.32995620369911194,0.29580986499786377],[0.3217688798904419,0.2955832779407501,0.27925997972488403],[0.28758057951927185,0.3149667978286743,0.2964536249637604],[0.30024266242980957,0.3073031008243561,0.37327489256858826],[0.26793172955513,0.3195178806781769,0.30069398880004883],[0.2702515721321106,0.3809603750705719,0.3185259997844696],[0.3194453716278076,0.29075831174850464,0.27755483984947205],[0.30948927998542786,0.27004456520080566,0.27212953567504883],[0.27155229449272156,0.287539005279541,0.34345340728759766],[0.2773125469684601,0.28664448857307434,0.35026082396507263],[0.29006102681159973,0.25439661741256714,0.3252241015434265],[0.28366991877555847,0.30526554584503174,0.3477204442024231],[0.31219008564949036,0.3184674084186554,0.248130202293396],[0.2968246042728424,0.2754993140697479,0.2937780022621155],[0.27207326889038086,0.33674436807632446,0.31169798970222473],[0.26915520429611206,0.3154955506324768,0.30301037430763245],[0.300918310880661,0.24488259851932526,0.2725587487220764],[0.2845892012119293,0.31240347027778625,0.26050516963005066],[0.3133943974971771,0.30685073137283325,0.29099395871162415],[0.31059175729751587,0.3568541705608368,0.2989782691001892],[0.2681768238544464,0.2929909825325012,0.3376033902168274],[0.2944270968437195,0.28473183512687683,0.2995201051235199],[0.2848316729068756,0.2762130796909332,0.28999385237693787],[0.26510167121887207,0.2946811020374298,0.2773727774620056],[0.2643514573574066,0.29477059841156006,0.2248045951128006],[0.28670740127563477,0.34513384103775024,0.25381672382354736],[0.3036472797393799,0.29511359333992004,0.26873651146888733],[0.26274803280830383,0.2616879642009735,0.2677451968193054],[0.2950407862663269,0.26704636216163635,0.25139784812927246],[0.24053367972373962,0.28995952010154724,0.3346552550792694],[0.29769888520240784,0.3677055835723877,0.26181405782699585],[0.28879794478416443,0.3646797835826874,0.280762642621994],[0.30174383521080017,0.32543301582336426,0.2991187870502472],[0.2651504874229431,0.26287052035331726,0.3014344274997711],[0.2645997703075409,0.27454042434692383,0.30421730875968933],[0.2728935480117798,0.2663571238517761,0.29318755865097046],[0.28278788924217224,0.32633695006370544,0.2839917242527008],[0.27774590253829956,0.3146260678768158,0.29027339816093445],[0.28262773156166077,0.3000887930393219,0.2974689304828644],[0.2890080213546753,0.3309299945831299,0.2906586527824402],[0.3067267835140228,0.33065369725227356,0.303785502910614],[0.301766961812973,0.3021734356880188,0.27120986580848694],[0.2649710178375244,0.29259636998176575,0.26764142513275146],[0.2877567410469055,0.2720143795013428,0.30980876088142395],[0.2591685652732849,0.292351096868515,0.38928860425949097],[0.26991260051727295,0.3145923316478729,0.329999715089798],[0.3102060556411743,0.3619556725025177,0.24771344661712646],[0.27911800146102905,0.3432066738605499,0.3151915669441223],[0.3017326593399048,0.26798319816589355,0.30404195189476013],[0.28918957710266113,0.2697443962097168,0.2898264229297638],[0.27991676330566406,0.2985488176345825,0.3028331398963928],[0.3199996054172516,0.29052916169166565,0.2941319942474365],[0.27368074655532837,0.28005656599998474,0.3293915092945099],[0.28073206543922424,0.31895187497138977,0.3485613167285919],[0.2823900878429413,0.31598836183547974,0.26503434777259827],[0.27584946155548096,0.3429167866706848,0.2703341245651245],[0.2938898503780365,0.2674100399017334,0.27666208148002625],[0.27151936292648315,0.2607383131980896,0.29029497504234314],[0.297212690114975,0.267795205116272,0.31648504734039307],[0.2823314666748047,0.267484575510025,0.2931414544582367],[0.3385981619358063,0.3048468232154846,0.3046630024909973],[0.2763497829437256,0.298904687166214,0.30396807193756104],[0.25334736704826355,0.37264227867126465,0.3114128112792969],[0.2800167202949524,0.3061526417732239,0.2622927725315094],[0.3126313388347626,0.2833509147167206,0.32863515615463257],[0.2768678665161133,0.35739651322364807,0.2690344452857971],[0.3091033101081848,0.3037353456020355,0.2877207100391388],[0.0,0.23030082881450653,0.2686285376548767],[0.2602994740009308,0.3598010241985321,0.28602147102355957],[0.30779048800468445,0.33927395939826965,0.30280163884162903],[0.27124279737472534,0.29616305232048035,0.31455469131469727],[0.28630518913269043,0.4257814288139343,0.30569934844970703],[0.3014863133430481,0.27958402037620544,0.28295043110847473],[0.27621200680732727,0.29057997465133667,0.30969175696372986],[0.3066861033439636,0.4368140399456024,0.27789607644081116],[0.26214027404785156,0.32182201743125916,0.27204814553260803],[0.28719329833984375,0.281399130821228,0.2646544575691223],[0.25954777002334595,0.2569735050201416,0.25529396533966064],[0.3020177185535431,0.32162386178970337,0.24941743910312653],[0.29526451230049133,0.2630370259284973,0.3016555905342102],[0.29844990372657776,0.7384214401245117,0.28243282437324524],[0.28118896484375,0.5564969778060913,0.2945122718811035],[0.3076609671115875,0.31223174929618835,0.32043495774269104],[0.26982006430625916,0.2553941309452057,0.2858502268791199],[0.29205378890037537,0.29369744658470154,0.3294253349304199],[0.2978905141353607,0.2705639600753784,0.2715051770210266],[0.3046219050884247,0.3125726878643036,0.233973890542984],[0.2801629900932312,0.2687274217605591,0.2440146505832672],[0.27738723158836365,0.6772128939628601,0.2810319662094116],[0.27376484870910645,0.29390791058540344,0.27821028232574463],[0.2667540907859802,0.35827958583831787,0.2541519105434418],[0.2673531174659729,0.272196501493454,0.3268958628177643],[0.2544054090976715,0.3174997568130493,0.28702038526535034],[0.2835235893726349,0.27981626987457275,0.2671310007572174],[0.28838205337524414,0.27092817425727844,0.29024842381477356],[0.2743343114852905,0.2640307545661926,0.3148958384990692],[0.26360011100769043,0.26991352438926697,0.30780795216560364],[0.30109840631484985,0.3010280728340149,0.2673913836479187],[0.2783048748970032,0.30314376950263977,0.2914658486843109],[0.28820696473121643,0.3090980648994446,0.3025123178958893],[0.29473355412483215,0.30797913670539856,0.3519822657108307],[0.28462743759155273,0.3325249254703522,0.2918107509613037],[0.266390860080719,0.2766331732273102,0.2813645899295807],[0.2815203368663788,0.2977546155452728,0.272863507270813],[0.29867807030677795,0.34794652462005615,0.23965057730674744],[0.3017410635948181,0.28563541173934937,0.2655465006828308],[0.2784615755081177,0.3346637487411499,0.29902443289756775],[0.2925122082233429,0.3205645680427551,0.2859179973602295],[0.2207595407962799,0.33619827032089233,0.33295005559921265],[0.3018582761287689,0.6403694748878479,0.29055413603782654],[0.2753320336341858,0.6536722779273987,0.28739064931869507],[0.29189878702163696,0.7207613587379456,0.2314237654209137],[0.2964475452899933,0.26914528012275696,0.2870449423789978],[0.2891281545162201,0.3219721019268036,0.30900129675865173],[0.2683090269565582,0.3035268485546112,0.2704319357872009],[0.29511475563049316,0.6099985241889954,0.27519363164901733],[0.28165966272354126,0.5799288153648376,0.25031813979148865],[0.24498803913593292,0.2855091691017151,0.24246501922607422],[0.2906613051891327,0.27897682785987854,0.28900447487831116],[0.3084545433521271,0.3115071654319763,0.2568593919277191],[0.2984674274921417,0.2885982096195221,0.27236759662628174],[0.29578453302383423,0.32161465287208557,0.2594844400882721],[0.28791186213493347,0.3388236463069916,0.27546554803848267],[0.29162126779556274,0.3153090178966522,0.27935099601745605],[0.28916358947753906,0.2647274136543274,0.2748960256576538],[0.30664101243019104,0.35499510169029236,0.2608884871006012],[0.28999778628349304,0.3233104348182678,0.27401459217071533],[0.2821701467037201,0.3282407224178314,0.2570916712284088],[0.28349822759628296,0.3564419150352478,0.31539708375930786],[0.2961077094078064,0.35128384828567505,0.37121039628982544],[0.2740429639816284,0.2801901400089264,0.3758060932159424],[0.2815875709056854,0.2952174246311188,0.32639291882514954],[0.2633397877216339,0.2602630853652954,0.28029876947402954],[0.27592530846595764,0.3978394865989685,0.3465893864631653],[0.2832481563091278,0.6291545033454895,0.23249757289886475],[0.26525571942329407,0.3644459545612335,0.21543218195438385],[0.2801467478275299,0.4309300184249878,0.30440235137939453],[0.23073025047779083,0.35560891032218933,0.309705913066864],[0.2792837619781494,0.3047073185443878,0.2769712805747986],[0.2872220277786255,0.5748512744903564,0.24789758026599884],[0.2969192862510681,0.306351900100708,0.2412514090538025],[0.2664513885974884,0.6068906784057617,0.26562297344207764],[0.3209516406059265,0.48608633875846863,0.2652433216571808],[0.2991483211517334,0.3050980567932129,0.3378330171108246],[0.2823832035064697,0.6055696606636047,0.2549939751625061],[0.3004470765590668,0.291047602891922,0.3124776780605316],[0.28671562671661377,0.2897550165653229,0.2971370220184326],[0.2680131494998932,0.2540753185749054,0.27066484093666077],[0.3062669336795807,0.6466234922409058,0.2619049847126007],[0.28296929597854614,0.3086835741996765,0.2763963043689728],[0.2883378863334656,0.6291780471801758,0.2786792516708374],[0.29650673270225525,0.68463134765625,0.26415690779685974],[0.2923435568809509,0.346536785364151,0.24490292370319366],[0.25987863540649414,0.2770862579345703,0.27088797092437744],[0.2954868972301483,0.5716012120246887,0.2501690983772278],[0.262200266122818,0.3421473503112793,0.2684114873409271],[0.2891538739204407,0.3276289403438568,0.26298120617866516],[0.2660834491252899,0.32292523980140686,0.2937919497489929],[0.2823244333267212,0.392279714345932,0.27740588784217834],[0.2886544466018677,0.3594439625740051,0.27959588170051575],[0.30323076248168945,0.5770494937896729,0.2833087146282196],[0.25256454944610596,0.33584535121917725,0.36322021484375],[0.27495938539505005,0.31279677152633667,0.3428909480571747],[0.2912754714488983,0.2848770320415497,0.3197006583213806],[0.3037860095500946,0.33295464515686035,0.3325768709182739],[0.2699715793132782,0.29164963960647583,0.3516984283924103],[0.32625728845596313,0.24963465332984924,0.2939225435256958],[0.2551921308040619,0.27438390254974365,0.24531473219394684],[0.27056726813316345,0.290862500667572,0.3154926300048828],[0.30045098066329956,0.252733439207077,0.3109993040561676],[0.305496484041214,0.3236616551876068,0.32928383350372314],[0.27534547448158264,0.2756447494029999,0.32011884450912476],[0.2901962697505951,0.3317154049873352,0.32001498341560364],[0.26757171750068665,0.2818877398967743,0.29978352785110474],[0.2888188064098358,0.2760166525840759,0.2978680431842804],[0.2974163591861725,0.3182792663574219,0.25927361845970154],[0.2875828444957733,0.4687912166118622,0.31443488597869873],[0.27254804968833923,0.5608694553375244,0.26706749200820923],[0.3055917024612427,0.3300101161003113,0.24147161841392517],[0.27536654472351074,0.2826063632965088,0.26726236939430237],[0.26709356904029846,0.3185214400291443,0.2515423893928528],[0.28691565990448,0.4036044180393219,0.29647761583328247],[0.27482280135154724,0.3580552935600281,0.26227304339408875],[0.28664910793304443,0.28892233967781067,0.2950344681739807],[0.272009015083313,0.3307574689388275,0.31933146715164185],[0.2925855219364166,0.3375864326953888,0.30369213223457336],[0.2642049193382263,0.24036015570163727,0.2696514129638672],[0.26281440258026123,0.31420624256134033,0.31221604347229004],[0.2467319816350937,0.34938570857048035,0.266558974981308],[0.2971574068069458,0.2625255286693573,0.2912965714931488],[0.24152734875679016,0.3899703323841095,0.31241127848625183],[0.3110431432723999,0.29068127274513245,0.2919278144836426],[0.23874403536319733,0.31101512908935547,0.29655763506889343],[0.28008538484573364,0.27225208282470703,0.28365543484687805],[0.26775768399238586,0.2747533917427063,0.23953166604042053],[0.2920052707195282,0.2845728397369385,0.29063141345977783],[0.2496137022972107,0.28574028611183167,0.32303327322006226],[0.27121880650520325,0.2852930426597595,0.3169642388820648],[0.27015164494514465,0.26144567131996155,0.32552599906921387],[0.2711348831653595,0.22598741948604584,0.3393489420413971],[0.2894264757633209,0.27736616134643555,0.319477379322052],[0.2576615512371063,0.36824923753738403,0.2875538468360901],[0.2696343660354614,0.29907920956611633,0.25607582926750183],[0.30833935737609863,0.2306113839149475,0.2868952751159668],[0.30168697237968445,0.41121941804885864,0.32954707741737366],[0.30232977867126465,0.2946928143501282,0.3281048834323883],[0.1768469363451004,0.2790285646915436,0.2543216049671173],[0.2897586226463318,0.3595745861530304,0.27812737226486206],[0.2721634805202484,0.3078058063983917,0.3050541281700134],[0.23639000952243805,0.33161839842796326,0.27728474140167236],[0.27792081236839294,0.283511757850647,0.2775912284851074],[0.23940454423427582,0.30560269951820374,0.30325543880462646],[0.2757011950016022,0.3343065679073334,0.23196227848529816],[0.2207661271095276,0.28899282217025757,0.23658908903598785],[0.27717769145965576,0.5876308679580688,0.3128085732460022],[0.2698797285556793,0.3402487337589264,0.2821306884288788],[0.27434128522872925,0.29685425758361816,0.30007651448249817],[0.2428574115037918,0.3373207449913025,0.3069358766078949],[0.2629845440387726,0.3402981460094452,0.32298681139945984],[0.21225479245185852,0.30068713426589966,0.29689911007881165],[0.2544001042842865,0.33171674609184265,0.2728393077850342],[0.2638290524482727,0.3701796233654022,0.2475745528936386],[0.25392603874206543,0.27279528975486755,0.29369956254959106],[0.2674435079097748,0.2985427975654602,0.2867964804172516],[0.29181668162345886,0.2791878283023834,0.2688690721988678],[0.26764583587646484,0.29251620173454285,0.2764204442501068],[0.29632750153541565,0.2996032238006592,0.31331944465637207],[0.25601819157600403,0.3080352544784546,0.2827475070953369],[0.3134261965751648,0.29102811217308044,0.3261926770210266],[0.257306843996048,0.2709410488605499,0.2631470561027527],[0.2441777139902115,0.3633193075656891,0.29353708028793335],[0.24236154556274414,0.33174654841423035,0.25983160734176636],[0.2789566218852997,0.32455673813819885,0.26300737261772156],[0.25624027848243713,0.29766857624053955,0.3261963427066803],[0.23507483303546906,0.3061954081058502,0.3040068745613098],[0.33034855127334595,0.24089913070201874,0.33790773153305054],[0.3141469657421112,0.29314038157463074,0.2722300887107849],[0.2952651083469391,0.23787105083465576,0.32324835658073425],[0.28884026408195496,0.2689952850341797,0.3039247989654541],[0.27275553345680237,0.28683775663375854,0.31187868118286133],[0.24084854125976562,0.2794385552406311,0.299746036529541],[0.2908218204975128,0.2617894411087036,0.30958184599876404],[0.2553079426288605,0.35371285676956177,0.2946779131889343],[0.26978716254234314,0.324618935585022,0.26931512355804443],[0.2645165026187897,0.32421770691871643,0.2518729865550995],[0.27131685614585876,0.31825587153434753,0.26879021525382996],[0.23743341863155365,0.3034851551055908,0.23069410026073456],[0.23995065689086914,0.283754825592041,0.25760623812675476],[0.2750689685344696,0.31239163875579834,0.2713874876499176],[0.25452283024787903,0.31061267852783203,0.28581345081329346],[0.21989616751670837,0.3267677426338196,0.29523754119873047],[0.2743794918060303,0.3115460276603699,0.26613888144493103],[0.29841992259025574,0.3276199400424957,0.2729108929634094],[0.28715065121650696,0.35954517126083374,0.2955365478992462],[0.2301347255706787,0.31403848528862,0.26480740308761597],[0.268645703792572,0.3209581971168518,0.2518343925476074],[0.3408091366291046,0.34401935338974,0.27128860354423523],[0.2372443526983261,0.28815457224845886,0.27012377977371216],[0.2641688883304596,0.34466150403022766,0.24001476168632507],[0.27378979325294495,0.3066805303096771,0.27962160110473633],[0.2385740727186203,0.33319199085235596,0.28941914439201355],[0.25420576333999634,0.30812355875968933,0.2539307773113251],[0.24877403676509857,0.28685006499290466,0.2843810021877289],[0.30022817850112915,0.3910934031009674,0.2837390601634979],[0.24811983108520508,0.2989259362220764,0.28732243180274963],[0.2554195523262024,0.30025458335876465,0.24098946154117584],[0.26345181465148926,0.3174649477005005,0.32485100626945496],[0.23011337220668793,0.28549593687057495,0.28286778926849365],[0.24975386261940002,0.3434686064720154,0.3003824055194855],[0.2617766857147217,0.29890304803848267,0.29573193192481995],[0.2629874050617218,0.30546343326568604,0.3183991312980652],[0.25435537099838257,0.3051796853542328,0.28510451316833496],[0.2852839231491089,0.27884387969970703,0.27534541487693787],[0.2790757119655609,0.29738715291023254,0.3515723645687103],[0.289314329624176,0.27983951568603516,0.28412148356437683],[0.25817248225212097,0.2709290683269501,0.24940098822116852],[0.2985144257545471,0.25658634305000305,0.28730881214141846],[0.2973272502422333,0.2607187032699585,0.32533642649650574],[0.2625564634799957,0.0,0.3101586401462555],[0.2611244320869446,0.29151904582977295,0.2981576919555664],[0.2670609951019287,0.4059818387031555,0.34590059518814087],[0.23840652406215668,0.28697577118873596,0.3292553722858429],[0.2889372408390045,0.32206207513809204,0.31467366218566895],[0.24981997907161713,0.3152197599411011,0.3047717213630676],[0.23967890441417694,0.3305705189704895,0.244201198220253],[0.29356348514556885,0.392320454120636,0.29819756746292114],[0.27969643473625183,0.36054396629333496,0.34316062927246094],[0.2625724971294403,0.3025108873844147,0.2870088517665863],[0.24082668125629425,0.23668521642684937,0.2510448098182678],[0.2599535882472992,0.3235543370246887,0.27796900272369385],[0.2358940690755844,0.28736644983291626,0.33370864391326904],[0.2540499269962311,0.3345142900943756,0.2894541621208191],[0.2800886631011963,0.41956716775894165,0.34026864171028137],[0.2812303900718689,0.26827335357666016,0.3407939374446869],[0.2672123610973358,0.28700506687164307,0.2668250501155853],[0.23535220324993134,0.31718936562538147,0.28747910261154175],[0.3008933365345001,0.26372218132019043,0.3383810818195343],[0.2570173740386963,0.31982091069221497,0.31941601634025574],[0.22303375601768494,0.3106613755226135,0.30547505617141724],[0.27915579080581665,0.2573886215686798,0.31082844734191895],[0.23301619291305542,0.3734627068042755,0.2730312645435333],[0.30434650182724,0.2875238358974457,0.29915401339530945],[0.25496384501457214,0.29274895787239075,0.3160325288772583],[0.25903454422950745,0.353127121925354,0.2912660837173462],[0.25999271869659424,0.287202924489975,0.2851985692977905],[0.26376044750213623,0.2715170383453369,0.2742658853530884],[0.28090840578079224,0.3913479149341583,0.3282637298107147],[0.2877933382987976,0.29539811611175537,0.27756232023239136],[0.30918264389038086,0.32005199790000916,0.2793389856815338],[0.2411310076713562,0.2837359309196472,0.2516895532608032],[0.28606346249580383,0.38946929574012756,0.2733004093170166],[0.24030469357967377,0.315530389547348,0.26891449093818665],[0.3095710873603821,0.4407753348350525,0.2960561215877533],[0.2909204363822937,0.25420480966567993,0.26751095056533813],[0.2513561248779297,0.2706126272678375,0.2809121310710907],[0.25497567653656006,0.28792813420295715,0.244903102517128],[0.28258365392684937,0.32374808192253113,0.3254978358745575],[0.274166077375412,0.2644536793231964,0.24005126953125],[0.24534761905670166,0.2959660291671753,0.2581184506416321],[0.27228936553001404,0.27692851424217224,0.31093868613243103],[0.23450064659118652,0.270600825548172,0.29338741302490234],[0.2587881088256836,0.27598243951797485,0.27027735114097595],[0.2507500946521759,0.3233295977115631,0.3209018409252167],[0.2680946886539459,0.35713309049606323,0.31865400075912476],[0.2625155746936798,0.3226241171360016,0.3190050721168518],[0.25770100951194763,0.3231811821460724,0.26358845829963684],[0.2886602282524109,0.2604237496852875,0.3219352066516876],[0.2742580473423004,0.2773277759552002,0.30395615100860596],[0.2660320997238159,0.27086976170539856,0.2897036075592041],[0.31142476201057434,0.24539022147655487,0.28439104557037354],[0.2408609837293625,0.2540890872478485,0.2950415015220642],[0.23073090612888336,0.2899368703365326,0.32705873250961304],[0.2646045982837677,0.3160085380077362,0.2936374843120575],[0.25864294171333313,0.3287142813205719,0.26362961530685425],[0.23013882339000702,0.3009711503982544,0.2606402337551117],[0.23630723357200623,0.283926784992218,0.28301116824150085],[0.2796376943588257,0.300363689661026,0.2588965594768524],[0.24407625198364258,0.30907630920410156,0.28388944268226624],[0.23646491765975952,0.28836458921432495,0.29694825410842896],[0.24712547659873962,0.284035861492157,0.29770028591156006],[0.2718839645385742,0.3069142699241638,0.25490957498550415],[0.31363335251808167,0.4331028163433075,0.32011279463768005],[0.26511988043785095,0.28888756036758423,0.26683226227760315],[0.2427009791135788,0.34227660298347473,0.2786788046360016],[0.26907333731651306,0.31275612115859985,0.29188084602355957],[0.2564225196838379,0.34970617294311523,0.24965114891529083],[0.25433918833732605,0.31887194514274597,0.2664140462875366],[0.2529158890247345,0.3207719027996063,0.30125272274017334],[0.25032809376716614,0.30755624175071716,0.273110955953598],[0.27233779430389404,0.30656346678733826,0.2653355300426483],[0.22059062123298645,0.2591562867164612,0.28975430130958557],[0.24113166332244873,0.2911006212234497,0.3228437602519989],[0.2538325786590576,0.3295738995075226,0.2927517890930176],[0.2547733187675476,0.2874383330345154,0.3543012738227844],[0.2600972056388855,0.29073211550712585,0.3122837245464325],[0.2423366755247116,0.29547378420829773,0.2956836223602295],[0.2157450169324875,0.3062269687652588,0.26050516963005066],[0.2563333809375763,0.3179261386394501,0.32584142684936523],[0.2502304017543793,0.3019932210445404,0.2811911106109619],[0.24180907011032104,0.37640848755836487,0.2650819420814514],[0.2463858425617218,0.3523608148097992,0.25393685698509216],[0.26727306842803955,0.30907145142555237,0.24708259105682373],[0.25508445501327515,0.29701918363571167,0.24101001024246216],[0.21734373271465302,0.3032333254814148,0.301420658826828],[0.23473083972930908,0.29373878240585327,0.2427939921617508],[0.24701809883117676,0.2760045826435089,0.2802664637565613],[0.23104168474674225,0.29859113693237305,0.27102309465408325],[0.2584194242954254,0.2793659567832947,0.3006589412689209],[0.2818075120449066,0.3256738781929016,0.23789462447166443],[0.2543494701385498,0.2938903272151947,0.28392454981803894],[0.23823687434196472,0.304395467042923,0.2725861668586731],[0.2502921521663666,0.29578763246536255,0.26535606384277344],[0.25357821583747864,0.3026510179042816,0.2945917248725891],[0.27422401309013367,0.3090282380580902,0.2864011824131012],[0.21997076272964478,0.2848551869392395,0.2541656494140625],[0.2725449800491333,0.334492951631546,0.30889368057250977],[0.2701553702354431,0.3112964928150177,0.27301350235939026],[0.25327739119529724,0.3518862724304199,0.29321831464767456],[0.24392592906951904,0.3577720522880554,0.2668699622154236],[0.24458830058574677,0.3322363495826721,0.24709825217723846],[0.2382071614265442,0.370675265789032,0.28847023844718933],[0.2794358432292938,0.26790952682495117,0.3530004322528839],[0.2589919865131378,0.25068265199661255,0.32710784673690796],[0.23629014194011688,0.25908127427101135,0.3526519536972046],[0.27681106328964233,0.24408574402332306,0.31796061992645264],[0.2581062912940979,0.25812453031539917,0.33690065145492554],[0.2717434763908386,0.3291248083114624,0.3457619249820709],[0.291201114654541,0.4902482330799103,0.3328114449977875],[0.27359089255332947,0.3304045498371124,0.2835302948951721],[0.2625795006752014,0.29004406929016113,0.2869463860988617],[0.2850690484046936,0.3061772584915161,0.26221227645874023],[0.2506861686706543,0.2906915545463562,0.3213772177696228],[0.25296807289123535,0.3380378186702728,0.2907973527908325],[0.24316775798797607,0.3047541379928589,0.3122777044773102],[0.3234976530075073,0.3118569254875183,0.30940553545951843],[0.23222102224826813,0.306684672832489,0.2799631953239441],[0.2506366968154907,0.36799970269203186,0.31193482875823975],[0.2649885416030884,0.41352763772010803,0.2753690183162689],[0.2466125637292862,0.3431101441383362,0.2743005156517029],[0.24282418191432953,0.2999308407306671,0.2787603735923767],[0.2454678863286972,0.307882696390152,0.27025386691093445],[0.28758910298347473,0.3688952326774597,0.2893858850002289],[0.27372053265571594,0.38306349515914917,0.2772964537143707],[0.2730046510696411,0.2745843231678009,0.329689621925354],[0.2399333119392395,0.30976831912994385,0.33917567133903503],[0.24255932867527008,0.29162317514419556,0.314201295375824],[0.2955801486968994,0.27669253945350647,0.2963115870952606],[0.2557097375392914,0.30620142817497253,0.32909637689590454]],\"colorbar\":{\"title\":{\"text\":\"Weights\"}},\"colorscale\":[[0.0,\"#0d0887\"],[0.1111111111111111,\"#46039f\"],[0.2222222222222222,\"#7201a8\"],[0.3333333333333333,\"#9c179e\"],[0.4444444444444444,\"#bd3786\"],[0.5555555555555556,\"#d8576b\"],[0.6666666666666666,\"#ed7953\"],[0.7777777777777778,\"#fb9f3a\"],[0.8888888888888888,\"#fdca26\"],[1.0,\"#f0f921\"]],\"opacity\":0.8,\"size\":5},\"mode\":\"markers\",\"x\":[0.53369140625,0.5390625,0.533203125,0.4931640625,0.53857421875,0.53564453125,0.5244140625,0.2130126953125,0.51953125,0.5185546875,0.50732421875,0.53369140625,0.533203125,0.5322265625,0.53466796875,0.5361328125,0.53759765625,0.53759765625,0.53759765625,0.53857421875,0.4931640625,0.038848876953125,0.33056640625,0.291259765625,0.251220703125,0.194091796875,0.364013671875,0.271240234375,0.317626953125,0.22705078125,0.197265625,0.157470703125,0.370849609375,0.1954345703125,0.0191650390625,0.10516357421875,0.31298828125,0.4833984375,0.489990234375,0.435302734375,0.40283203125,0.4521484375,0.422119140625,0.341064453125,0.501953125,0.494873046875,0.1363525390625,0.39453125,0.392333984375,0.387451171875,0.1873779296875,0.494140625,0.247314453125,0.182861328125,0.08197021484375,0.4375,0.355712890625,0.312255859375,0.0687255859375,0.42626953125,0.462158203125,0.36328125,0.375244140625,0.1585693359375,0.390625,0.331787109375,0.324951171875,0.25634765625,0.11846923828125,0.288818359375,0.108642578125,0.072509765625,0.486083984375,0.44384765625,0.412353515625,0.436767578125,0.369384765625,0.3896484375,0.380615234375,0.45068359375,0.429931640625,0.45849609375,0.4931640625,0.477294921875,0.486572265625,0.48828125,0.490478515625,0.493896484375,0.4296875,0.42236328125,0.413818359375,0.40576171875,0.3583984375,0.0108489990234375,0.53466796875,0.4072265625,0.398681640625,0.47607421875,0.406005859375,0.469482421875,0.350341796875,0.282958984375,0.3798828125,0.15087890625,0.1866455078125,0.2325439453125,0.37451171875,0.42529296875,0.394287109375,0.37158203125,0.2156982421875,0.1123046875,0.385498046875,0.152099609375,0.4248046875,0.421142578125,0.0626220703125,0.1453857421875,0.2034912109375,0.28515625,0.34326171875,0.38720703125,0.48193359375,0.07684326171875,0.11749267578125,0.51611328125,0.39892578125,0.0,0.420654296875,0.374267578125,0.1756591796875,0.416748046875,0.0303955078125,0.3818359375,0.454833984375,0.1800537109375,0.173583984375,0.0243682861328125,0.1260986328125,0.043487548828125,0.3583984375,0.5166015625,0.361083984375,0.0672607421875,0.2548828125,0.289306640625,0.380859375,0.09136962890625,0.439453125,0.296875,0.2386474609375,0.51318359375,0.5400390625,0.322021484375,0.35205078125,0.371826171875,0.08465576171875,0.3466796875,0.312744140625,0.27880859375,0.2442626953125,0.2213134765625,0.01239776611328125,0.2308349609375,0.5341796875,0.394287109375,0.427001953125,0.473876953125,0.52099609375,0.2354736328125,0.293212890625,0.44189453125,0.1201171875,0.37060546875,0.45654296875,0.5419921875,0.362060546875,0.04364013671875,0.45849609375,0.4521484375,0.446533203125,0.441650390625,0.418701171875,0.397705078125,0.387451171875,0.37890625,0.33056640625,0.1602783203125,0.45361328125,0.421875,0.390869140625,0.406982421875,0.1531982421875,0.468017578125,0.393310546875,0.53173828125,0.4873046875,0.52783203125,0.42724609375,0.54150390625,0.53955078125,0.464111328125,0.29443359375,0.34228515625,0.337646484375,0.25341796875,0.31103515625,0.2230224609375,0.4501953125,0.399658203125,0.25341796875,0.30908203125,0.2646484375,0.10650634765625,0.2086181640625,0.07373046875,0.285400390625,0.42822265625,0.437255859375,0.40771484375,0.45556640625,0.390625,0.323974609375,0.2626953125,0.210205078125,0.1719970703125,0.145263671875,0.0149993896484375,0.1829833984375,0.22900390625,0.28564453125,0.337158203125,0.37744140625,0.405517578125,0.0022678375244140625,0.40771484375,0.45849609375,0.469482421875,0.49267578125,0.46923828125,0.420166015625,0.501953125,0.5029296875,0.399169921875,0.427734375,0.4462890625,0.2071533203125,0.1766357421875,0.5693359375,0.8193359375,0.5771484375,0.96142578125,0.70703125,0.748046875,0.78759765625,0.83984375,0.67236328125,0.7626953125,0.71728515625,0.8046875,0.83251953125,0.87744140625,0.705078125,0.83447265625,0.9921875,0.921875,0.7431640625,0.58154296875,0.576171875,0.6279296875,0.65625,0.61181640625,0.63818359375,0.7265625,0.576171875,0.58203125,0.88671875,0.65478515625,0.673828125,0.67578125,0.86474609375,0.576171875,0.783203125,0.84326171875,0.92333984375,0.60400390625,0.67724609375,0.7509765625,0.95263671875,0.63818359375,0.603515625,0.68701171875,0.6767578125,0.8623046875,0.673828125,0.7041015625,0.708984375,0.7578125,0.90087890625,0.736328125,0.908203125,0.94189453125,0.58056640625,0.6201171875,0.64794921875,0.626953125,0.681640625,0.66845703125,0.67138671875,0.62060546875,0.62939453125,0.603515625,0.5712890625,0.59912109375,0.58935546875,0.58642578125,0.58056640625,0.57470703125,0.6318359375,0.64111328125,0.6513671875,0.65966796875,0.7080078125,0.9873046875,0.6494140625,0.6591796875,0.59033203125,0.65576171875,0.5966796875,0.69970703125,0.7685546875,0.68212890625,0.8603515625,0.8359375,0.7939453125,0.6962890625,0.61376953125,0.63232421875,0.64404296875,0.82080078125,0.92529296875,0.6494140625,0.875,0.62451171875,0.64892578125,0.96875,0.89794921875,0.8447265625,0.76416015625,0.7041015625,0.65966796875,0.56640625,0.96142578125,0.9072265625,0.5615234375,0.654296875,0.9912109375,0.62548828125,0.681640625,0.853515625,0.6494140625,0.9775390625,0.65087890625,0.6142578125,0.8740234375,0.875,0.99462890625,0.9189453125,0.96630859375,0.71728515625,0.552734375,0.69287109375,0.958984375,0.779296875,0.7451171875,0.6767578125,0.95068359375,0.63916015625,0.76953125,0.82080078125,0.712890625,0.68115234375,0.66064453125,0.93505859375,0.6884765625,0.72314453125,0.7568359375,0.79052734375,0.81201171875,0.98095703125,0.80224609375,0.6728515625,0.63916015625,0.59521484375,0.826171875,0.77490234375,0.64111328125,0.91552734375,0.6630859375,0.5986328125,0.71142578125,0.98193359375,0.60693359375,0.61572265625,0.62451171875,0.63037109375,0.65576171875,0.658203125,0.66748046875,0.67578125,0.73388671875,0.89306640625,0.59423828125,0.61376953125,0.642578125,0.6484375,0.8974609375,0.576171875,0.68115234375,0.56884765625,0.63232421875,0.6142578125,0.771484375,0.71533203125,0.73291015625,0.80517578125,0.74951171875,0.8359375,0.63232421875,0.65771484375,0.810546875,0.759765625,0.79736328125,0.93798828125,0.8505859375,0.9599609375,0.77685546875,0.62548828125,0.63525390625,0.65966796875,0.61767578125,0.6435546875,0.70947265625,0.76904296875,0.81982421875,0.85595703125,0.88330078125,1.0,0.85498046875,0.8134765625,0.75732421875,0.7041015625,0.66357421875,0.634765625,0.990234375,0.6572265625,0.60205078125,0.6064453125,0.58251953125,0.60498046875,0.64404296875,0.57470703125,0.56689453125,0.634765625,0.611328125,0.5986328125,0.8251953125,0.8515625],\"y\":[0.67431640625,0.5498046875,0.57958984375,0.42041015625,0.5126953125,0.460205078125,0.327392578125,0.31201171875,0.245849609375,0.1998291015625,0.0019588470458984375,0.689453125,0.7021484375,0.70947265625,0.73193359375,0.75244140625,0.77685546875,0.80078125,0.865234375,0.5673828125,0.56396484375,0.1663818359375,0.33984375,0.34423828125,0.345703125,0.327880859375,0.331787109375,0.257080078125,0.260009765625,0.26171875,0.272705078125,0.35400390625,0.900390625,0.30517578125,0.327880859375,0.330078125,0.5126953125,0.6669921875,0.70166015625,0.6796875,0.69287109375,0.7041015625,0.70751953125,0.78515625,0.5498046875,0.5146484375,0.248291015625,0.4091796875,0.537109375,0.515625,0.51171875,0.46484375,0.21875,0.22705078125,0.10626220703125,0.255126953125,0.270751953125,0.74365234375,0.67529296875,0.55615234375,0.56591796875,0.71630859375,0.716796875,0.20263671875,0.5537109375,0.227294921875,0.1983642578125,0.0266571044921875,0.153564453125,0.1053466796875,0.2308349609375,0.1998291015625,0.68701171875,0.693359375,0.701171875,0.5625,0.716796875,0.728515625,0.716796875,0.5458984375,0.71142578125,0.70947265625,0.70947265625,0.86328125,0.796875,0.77294921875,0.74853515625,0.7294921875,0.72119140625,0.72998046875,0.7421875,0.75537109375,0.66455078125,0.47900390625,0.57177734375,0.7177734375,0.72265625,0.58056640625,0.57470703125,0.57373046875,0.432861328125,0.462890625,0.5322265625,0.05889892578125,0.12042236328125,0.189453125,0.814453125,0.2108154296875,0.0994873046875,0.0094451904296875,0.34033203125,0.381103515625,0.3232421875,0.286865234375,0.38427734375,0.52392578125,0.4072265625,0.408447265625,0.423095703125,0.414306640625,0.396484375,0.379150390625,0.3369140625,0.489990234375,0.284912109375,0.56689453125,0.449462890625,0.31396484375,0.359619140625,0.53173828125,0.30712890625,0.498046875,0.57275390625,0.309814453125,0.477783203125,0.79248046875,0.82763671875,0.486572265625,0.7333984375,0.25634765625,0.93701171875,0.57080078125,0.479248046875,0.336181640625,0.319580078125,0.320068359375,0.734375,0.56640625,0.9921875,0.9267578125,0.88525390625,0.09637451171875,1.0,0.3173828125,0.313232421875,0.3115234375,0.276611328125,0.295166015625,0.290283203125,0.28955078125,0.29345703125,0.298583984375,0.2308349609375,0.316162109375,0.6123046875,0.63671875,0.55029296875,0.61767578125,0.283203125,0.84814453125,0.89208984375,0.97021484375,0.76220703125,0.303466796875,0.39892578125,0.97802734375,0.96484375,0.57177734375,0.72509765625,0.7392578125,0.7578125,0.779296875,0.84326171875,0.71142578125,0.70849609375,0.7041015625,0.70166015625,0.59326171875,0.357421875,0.29150390625,0.29296875,0.7138671875,0.68408203125,0.296875,0.86767578125,0.414306640625,0.38037109375,0.371337890625,0.4609375,0.94091796875,0.8984375,0.89404296875,0.79052734375,0.5654296875,0.833984375,0.5625,0.60888671875,0.62646484375,0.93408203125,0.48193359375,0.81201171875,0.85791015625,0.73974609375,0.6318359375,0.73681640625,0.6533203125,0.666015625,0.423095703125,0.54052734375,0.54931640625,0.517578125,0.267333984375,0.2479248046875,0.2425537109375,0.248046875,0.26220703125,0.318603515625,0.40576171875,0.369384765625,0.3798828125,0.377197265625,0.366455078125,0.3544921875,0.343017578125,0.39501953125,0.55908203125,0.43701171875,0.5439453125,0.56005859375,0.54833984375,0.5693359375,0.564453125,0.56884765625,0.3125,0.32421875,0.33349609375,0.302490234375,0.287109375,0.417724609375,0.29296875,0.560546875,0.13671875,0.331787109375,0.3330078125,0.33056640625,0.3056640625,0.32568359375,0.2427978515625,0.2489013671875,0.2437744140625,0.252197265625,0.32958984375,0.8896484375,0.28271484375,0.296142578125,0.302490234375,0.498046875,0.6640625,0.69873046875,0.67431640625,0.685546875,0.69921875,0.701171875,0.7705078125,0.54736328125,0.51171875,0.225341796875,0.39990234375,0.52734375,0.50537109375,0.4892578125,0.4619140625,0.2042236328125,0.207763671875,0.07843017578125,0.25439453125,0.2626953125,0.72705078125,0.6474609375,0.54833984375,0.56103515625,0.7080078125,0.708984375,0.181396484375,0.5439453125,0.21875,0.188720703125,0.0094451904296875,0.12548828125,0.08856201171875,0.2052001953125,0.170166015625,0.68408203125,0.6884765625,0.69384765625,0.5556640625,0.70849609375,0.720703125,0.708984375,0.53955078125,0.705078125,0.70458984375,0.70654296875,0.859375,0.7939453125,0.76953125,0.7451171875,0.7265625,0.71484375,0.72314453125,0.7353515625,0.74853515625,0.6513671875,0.44873046875,0.7109375,0.71533203125,0.5771484375,0.56640625,0.5693359375,0.420654296875,0.446533203125,0.52197265625,0.034820556640625,0.09637451171875,0.1732177734375,0.802734375,0.20849609375,0.090576171875,0.0,0.321533203125,0.353271484375,0.318359375,0.263427734375,0.376953125,0.51611328125,0.378173828125,0.383056640625,0.402587890625,0.40087890625,0.3876953125,0.3740234375,0.333740234375,0.46142578125,0.259033203125,0.56494140625,0.440185546875,0.28271484375,0.357666015625,0.52099609375,0.283447265625,0.48974609375,0.54345703125,0.30517578125,0.47216796875,0.76953125,0.8056640625,0.455078125,0.70703125,0.2259521484375,0.92578125,0.5693359375,0.4677734375,0.30517578125,0.30615234375,0.31005859375,0.7265625,0.5380859375,0.986328125,0.912109375,0.8671875,0.309326171875,0.306640625,0.305908203125,0.246826171875,0.28564453125,0.277587890625,0.27392578125,0.2744140625,0.27783203125,0.2000732421875,0.2998046875,0.626953125,0.54248046875,0.61376953125,0.8291015625,0.876953125,0.9638671875,0.73681640625,0.297119140625,0.393798828125,0.95458984375,0.54150390625,0.7197265625,0.73388671875,0.75244140625,0.7744140625,0.83447265625,0.7041015625,0.70068359375,0.69580078125,0.6865234375,0.56884765625,0.352294921875,0.2890625,0.2880859375,0.70703125,0.6591796875,0.29833984375,0.85791015625,0.377197265625,0.453857421875,0.888671875,0.7744140625,0.55224609375,0.8203125,0.5439453125,0.59375,0.60595703125,0.92822265625,0.47265625,0.79345703125,0.84326171875,0.72119140625,0.60400390625,0.71484375,0.6240234375,0.64892578125,0.416259765625,0.53369140625,0.54052734375,0.51171875,0.262451171875,0.2379150390625,0.227783203125,0.2291259765625,0.2403564453125,0.293701171875,0.373779296875,0.347412109375,0.362060546875,0.3642578125,0.357666015625,0.3486328125,0.33935546875,0.364013671875,0.55029296875,0.431884765625,0.5390625,0.55712890625,0.54345703125,0.5615234375,0.5615234375,0.56640625,0.308837890625,0.322509765625,0.33349609375,0.28076171875,0.264404296875],\"z\":[0.18310546875,0.024261474609375,0.1812744140625,0.087890625,0.0,0.0180816650390625,0.1624755859375,0.37939453125,0.18896484375,0.171142578125,0.22119140625,0.19189453125,0.2139892578125,0.2476806640625,0.2705078125,0.26953125,0.264404296875,0.284912109375,0.361083984375,0.05682373046875,0.1361083984375,0.634765625,0.33154296875,0.33154296875,0.34375,0.386962890625,0.33642578125,0.293701171875,0.297607421875,0.30859375,0.33203125,0.4140625,0.417724609375,0.3955078125,0.66845703125,0.46728515625,0.29052734375,0.1885986328125,0.2203369140625,0.2222900390625,0.266357421875,0.24169921875,0.281494140625,0.375732421875,0.026763916015625,0.004032135009765625,0.338134765625,0.272705078125,0.1680908203125,0.18408203125,0.351318359375,0.0350341796875,0.2353515625,0.27734375,0.51171875,0.2041015625,0.320556640625,0.378662109375,0.87646484375,0.197265625,0.190673828125,0.368896484375,0.35205078125,0.303955078125,0.202880859375,0.2100830078125,0.1942138671875,0.28466796875,0.390869140625,0.2333984375,0.3876953125,0.50244140625,0.197265625,0.2288818359375,0.268310546875,0.2078857421875,0.359130859375,0.33154296875,0.350341796875,0.11248779296875,0.29541015625,0.2705078125,0.252197265625,0.356201171875,0.2822265625,0.26611328125,0.27294921875,0.2744140625,0.311279296875,0.306640625,0.301513671875,0.31396484375,0.27880859375,0.9375,0.136962890625,0.33544921875,0.331298828125,0.1932373046875,0.250732421875,0.189697265625,0.292724609375,0.306640625,0.2196044921875,0.38623046875,0.30419921875,0.2445068359375,0.36181640625,0.174072265625,0.1968994140625,0.2286376953125,0.36572265625,0.447021484375,0.345703125,0.380615234375,0.24951171875,0.10919189453125,0.51171875,0.398681640625,0.350341796875,0.3271484375,0.318115234375,0.302001953125,0.18408203125,0.5048828125,0.406005859375,0.058868408203125,0.254150390625,0.87158203125,0.29296875,0.281494140625,0.404541015625,0.129150390625,0.921875,0.360595703125,0.0703125,0.59033203125,0.70068359375,0.71728515625,0.64794921875,0.60205078125,0.456298828125,0.1396484375,0.277587890625,0.5263671875,0.348876953125,0.3369140625,0.341552734375,0.53515625,0.491455078125,0.580078125,0.6318359375,0.1922607421875,0.484130859375,0.336181640625,0.345458984375,0.3583984375,0.46435546875,0.33544921875,0.31982421875,0.31982421875,0.332275390625,0.351318359375,0.76513671875,0.364990234375,0.1981201171875,0.248046875,0.17236328125,0.2001953125,0.2001953125,0.548828125,0.505859375,0.41357421875,0.7919921875,0.349853515625,0.1719970703125,0.4091796875,0.525390625,0.720703125,0.290283203125,0.286865234375,0.28271484375,0.2958984375,0.35009765625,0.317138671875,0.316162109375,0.3154296875,0.32568359375,0.423828125,0.2208251953125,0.31591796875,0.337158203125,0.32666015625,0.529296875,0.2418212890625,0.389892578125,0.06878662109375,0.13037109375,0.11822509765625,0.1788330078125,0.373779296875,0.369873046875,0.373779296875,0.412841796875,0.296875,0.403564453125,0.31689453125,0.30859375,0.371826171875,0.380615234375,0.22314453125,0.47314453125,0.4541015625,0.40625,0.56787109375,0.462890625,0.70849609375,0.342041015625,0.2159423828125,0.098876953125,0.163330078125,0.051971435546875,0.292236328125,0.27099609375,0.2685546875,0.2890625,0.325927734375,0.42578125,0.69482421875,0.388671875,0.356201171875,0.33544921875,0.331298828125,0.326904296875,0.3251953125,0.92529296875,0.1942138671875,0.130126953125,0.053436279296875,0.08074951171875,0.0836181640625,0.2166748046875,0.06573486328125,0.137939453125,0.3515625,0.31689453125,0.274169921875,0.3701171875,0.3671875,0.09246826171875,0.41943359375,0.142333984375,0.69189453125,0.356201171875,0.361572265625,0.37890625,0.429443359375,0.357177734375,0.325439453125,0.323974609375,0.3466796875,0.374267578125,0.462646484375,0.442138671875,0.437744140625,0.73486328125,0.5224609375,0.31982421875,0.1947021484375,0.2255859375,0.23388671875,0.281494140625,0.2509765625,0.294921875,0.401611328125,0.03240966796875,0.01045989990234375,0.388427734375,0.289306640625,0.1873779296875,0.203857421875,0.39697265625,0.040313720703125,0.2724609375,0.322265625,0.564453125,0.2158203125,0.341796875,0.40771484375,0.93310546875,0.2117919921875,0.2015380859375,0.388671875,0.371337890625,0.35205078125,0.2227783203125,0.2359619140625,0.220947265625,0.316650390625,0.4443359375,0.264404296875,0.441650390625,0.56103515625,0.202880859375,0.2393798828125,0.282958984375,0.2218017578125,0.37890625,0.349609375,0.368896484375,0.12347412109375,0.3076171875,0.279052734375,0.256591796875,0.365478515625,0.289794921875,0.272705078125,0.278564453125,0.279541015625,0.32373046875,0.321044921875,0.31787109375,0.331298828125,0.3017578125,1.0,0.350341796875,0.347900390625,0.201416015625,0.26904296875,0.19921875,0.315673828125,0.339111328125,0.2406005859375,0.431396484375,0.34912109375,0.28271484375,0.38427734375,0.1873779296875,0.2137451171875,0.2467041015625,0.4052734375,0.501953125,0.363037109375,0.4287109375,0.261962890625,0.12493896484375,0.5732421875,0.449462890625,0.393310546875,0.359375,0.341796875,0.320068359375,0.189453125,0.564453125,0.45849609375,0.061981201171875,0.270751953125,0.9345703125,0.306396484375,0.303466796875,0.449462890625,0.145263671875,0.98291015625,0.378173828125,0.08111572265625,0.638671875,0.74658203125,0.783203125,0.7021484375,0.6640625,0.48193359375,0.142333984375,0.300048828125,0.58642578125,0.383544921875,0.36669921875,0.3603515625,0.59375,0.5048828125,0.61083984375,0.66943359375,0.36181640625,0.366943359375,0.377197265625,0.52099609375,0.357421875,0.346435546875,0.350830078125,0.36767578125,0.39013671875,0.82568359375,0.402587890625,0.26708984375,0.1873779296875,0.2083740234375,0.59033203125,0.5400390625,0.427978515625,0.8427734375,0.368408203125,0.18115234375,0.5478515625,0.78515625,0.299560546875,0.297607421875,0.294677734375,0.308837890625,0.366943359375,0.333251953125,0.3330078125,0.333251953125,0.3515625,0.4736328125,0.2294921875,0.328857421875,0.353515625,0.341552734375,0.580078125,0.2493896484375,0.41064453125,0.1357421875,0.1927490234375,0.385009765625,0.446044921875,0.32275390625,0.431884765625,0.354736328125,0.33837890625,0.41357421875,0.3935546875,0.24072265625,0.5126953125,0.486572265625,0.4423828125,0.62548828125,0.50732421875,0.76904296875,0.374755859375,0.228515625,0.11224365234375,0.180908203125,0.06292724609375,0.308837890625,0.29736328125,0.30322265625,0.330322265625,0.3720703125,0.475341796875,0.76171875,0.433349609375,0.395263671875,0.366943359375,0.35546875,0.34619140625,0.34033203125,0.98779296875,0.2119140625,0.1392822265625,0.06317138671875,0.08758544921875,0.0931396484375,0.233154296875,0.0711669921875,0.142822265625,0.367431640625,0.32958984375,0.28466796875,0.410888671875,0.41259765625],\"type\":\"scatter3d\"}],                        {\"template\":{\"data\":{\"histogram2dcontour\":[{\"type\":\"histogram2dcontour\",\"colorbar\":{\"outlinewidth\":0,\"ticks\":\"\"},\"colorscale\":[[0.0,\"#0d0887\"],[0.1111111111111111,\"#46039f\"],[0.2222222222222222,\"#7201a8\"],[0.3333333333333333,\"#9c179e\"],[0.4444444444444444,\"#bd3786\"],[0.5555555555555556,\"#d8576b\"],[0.6666666666666666,\"#ed7953\"],[0.7777777777777778,\"#fb9f3a\"],[0.8888888888888888,\"#fdca26\"],[1.0,\"#f0f921\"]]}],\"choropleth\":[{\"type\":\"choropleth\",\"colorbar\":{\"outlinewidth\":0,\"ticks\":\"\"}}],\"histogram2d\":[{\"type\":\"histogram2d\",\"colorbar\":{\"outlinewidth\":0,\"ticks\":\"\"},\"colorscale\":[[0.0,\"#0d0887\"],[0.1111111111111111,\"#46039f\"],[0.2222222222222222,\"#7201a8\"],[0.3333333333333333,\"#9c179e\"],[0.4444444444444444,\"#bd3786\"],[0.5555555555555556,\"#d8576b\"],[0.6666666666666666,\"#ed7953\"],[0.7777777777777778,\"#fb9f3a\"],[0.8888888888888888,\"#fdca26\"],[1.0,\"#f0f921\"]]}],\"heatmap\":[{\"type\":\"heatmap\",\"colorbar\":{\"outlinewidth\":0,\"ticks\":\"\"},\"colorscale\":[[0.0,\"#0d0887\"],[0.1111111111111111,\"#46039f\"],[0.2222222222222222,\"#7201a8\"],[0.3333333333333333,\"#9c179e\"],[0.4444444444444444,\"#bd3786\"],[0.5555555555555556,\"#d8576b\"],[0.6666666666666666,\"#ed7953\"],[0.7777777777777778,\"#fb9f3a\"],[0.8888888888888888,\"#fdca26\"],[1.0,\"#f0f921\"]]}],\"heatmapgl\":[{\"type\":\"heatmapgl\",\"colorbar\":{\"outlinewidth\":0,\"ticks\":\"\"},\"colorscale\":[[0.0,\"#0d0887\"],[0.1111111111111111,\"#46039f\"],[0.2222222222222222,\"#7201a8\"],[0.3333333333333333,\"#9c179e\"],[0.4444444444444444,\"#bd3786\"],[0.5555555555555556,\"#d8576b\"],[0.6666666666666666,\"#ed7953\"],[0.7777777777777778,\"#fb9f3a\"],[0.8888888888888888,\"#fdca26\"],[1.0,\"#f0f921\"]]}],\"contourcarpet\":[{\"type\":\"contourcarpet\",\"colorbar\":{\"outlinewidth\":0,\"ticks\":\"\"}}],\"contour\":[{\"type\":\"contour\",\"colorbar\":{\"outlinewidth\":0,\"ticks\":\"\"},\"colorscale\":[[0.0,\"#0d0887\"],[0.1111111111111111,\"#46039f\"],[0.2222222222222222,\"#7201a8\"],[0.3333333333333333,\"#9c179e\"],[0.4444444444444444,\"#bd3786\"],[0.5555555555555556,\"#d8576b\"],[0.6666666666666666,\"#ed7953\"],[0.7777777777777778,\"#fb9f3a\"],[0.8888888888888888,\"#fdca26\"],[1.0,\"#f0f921\"]]}],\"surface\":[{\"type\":\"surface\",\"colorbar\":{\"outlinewidth\":0,\"ticks\":\"\"},\"colorscale\":[[0.0,\"#0d0887\"],[0.1111111111111111,\"#46039f\"],[0.2222222222222222,\"#7201a8\"],[0.3333333333333333,\"#9c179e\"],[0.4444444444444444,\"#bd3786\"],[0.5555555555555556,\"#d8576b\"],[0.6666666666666666,\"#ed7953\"],[0.7777777777777778,\"#fb9f3a\"],[0.8888888888888888,\"#fdca26\"],[1.0,\"#f0f921\"]]}],\"mesh3d\":[{\"type\":\"mesh3d\",\"colorbar\":{\"outlinewidth\":0,\"ticks\":\"\"}}],\"scatter\":[{\"fillpattern\":{\"fillmode\":\"overlay\",\"size\":10,\"solidity\":0.2},\"type\":\"scatter\"}],\"parcoords\":[{\"type\":\"parcoords\",\"line\":{\"colorbar\":{\"outlinewidth\":0,\"ticks\":\"\"}}}],\"scatterpolargl\":[{\"type\":\"scatterpolargl\",\"marker\":{\"colorbar\":{\"outlinewidth\":0,\"ticks\":\"\"}}}],\"bar\":[{\"error_x\":{\"color\":\"#2a3f5f\"},\"error_y\":{\"color\":\"#2a3f5f\"},\"marker\":{\"line\":{\"color\":\"#E5ECF6\",\"width\":0.5},\"pattern\":{\"fillmode\":\"overlay\",\"size\":10,\"solidity\":0.2}},\"type\":\"bar\"}],\"scattergeo\":[{\"type\":\"scattergeo\",\"marker\":{\"colorbar\":{\"outlinewidth\":0,\"ticks\":\"\"}}}],\"scatterpolar\":[{\"type\":\"scatterpolar\",\"marker\":{\"colorbar\":{\"outlinewidth\":0,\"ticks\":\"\"}}}],\"histogram\":[{\"marker\":{\"pattern\":{\"fillmode\":\"overlay\",\"size\":10,\"solidity\":0.2}},\"type\":\"histogram\"}],\"scattergl\":[{\"type\":\"scattergl\",\"marker\":{\"colorbar\":{\"outlinewidth\":0,\"ticks\":\"\"}}}],\"scatter3d\":[{\"type\":\"scatter3d\",\"line\":{\"colorbar\":{\"outlinewidth\":0,\"ticks\":\"\"}},\"marker\":{\"colorbar\":{\"outlinewidth\":0,\"ticks\":\"\"}}}],\"scattermapbox\":[{\"type\":\"scattermapbox\",\"marker\":{\"colorbar\":{\"outlinewidth\":0,\"ticks\":\"\"}}}],\"scatterternary\":[{\"type\":\"scatterternary\",\"marker\":{\"colorbar\":{\"outlinewidth\":0,\"ticks\":\"\"}}}],\"scattercarpet\":[{\"type\":\"scattercarpet\",\"marker\":{\"colorbar\":{\"outlinewidth\":0,\"ticks\":\"\"}}}],\"carpet\":[{\"aaxis\":{\"endlinecolor\":\"#2a3f5f\",\"gridcolor\":\"white\",\"linecolor\":\"white\",\"minorgridcolor\":\"white\",\"startlinecolor\":\"#2a3f5f\"},\"baxis\":{\"endlinecolor\":\"#2a3f5f\",\"gridcolor\":\"white\",\"linecolor\":\"white\",\"minorgridcolor\":\"white\",\"startlinecolor\":\"#2a3f5f\"},\"type\":\"carpet\"}],\"table\":[{\"cells\":{\"fill\":{\"color\":\"#EBF0F8\"},\"line\":{\"color\":\"white\"}},\"header\":{\"fill\":{\"color\":\"#C8D4E3\"},\"line\":{\"color\":\"white\"}},\"type\":\"table\"}],\"barpolar\":[{\"marker\":{\"line\":{\"color\":\"#E5ECF6\",\"width\":0.5},\"pattern\":{\"fillmode\":\"overlay\",\"size\":10,\"solidity\":0.2}},\"type\":\"barpolar\"}],\"pie\":[{\"automargin\":true,\"type\":\"pie\"}]},\"layout\":{\"autotypenumbers\":\"strict\",\"colorway\":[\"#636efa\",\"#EF553B\",\"#00cc96\",\"#ab63fa\",\"#FFA15A\",\"#19d3f3\",\"#FF6692\",\"#B6E880\",\"#FF97FF\",\"#FECB52\"],\"font\":{\"color\":\"#2a3f5f\"},\"hovermode\":\"closest\",\"hoverlabel\":{\"align\":\"left\"},\"paper_bgcolor\":\"white\",\"plot_bgcolor\":\"#E5ECF6\",\"polar\":{\"bgcolor\":\"#E5ECF6\",\"angularaxis\":{\"gridcolor\":\"white\",\"linecolor\":\"white\",\"ticks\":\"\"},\"radialaxis\":{\"gridcolor\":\"white\",\"linecolor\":\"white\",\"ticks\":\"\"}},\"ternary\":{\"bgcolor\":\"#E5ECF6\",\"aaxis\":{\"gridcolor\":\"white\",\"linecolor\":\"white\",\"ticks\":\"\"},\"baxis\":{\"gridcolor\":\"white\",\"linecolor\":\"white\",\"ticks\":\"\"},\"caxis\":{\"gridcolor\":\"white\",\"linecolor\":\"white\",\"ticks\":\"\"}},\"coloraxis\":{\"colorbar\":{\"outlinewidth\":0,\"ticks\":\"\"}},\"colorscale\":{\"sequential\":[[0.0,\"#0d0887\"],[0.1111111111111111,\"#46039f\"],[0.2222222222222222,\"#7201a8\"],[0.3333333333333333,\"#9c179e\"],[0.4444444444444444,\"#bd3786\"],[0.5555555555555556,\"#d8576b\"],[0.6666666666666666,\"#ed7953\"],[0.7777777777777778,\"#fb9f3a\"],[0.8888888888888888,\"#fdca26\"],[1.0,\"#f0f921\"]],\"sequentialminus\":[[0.0,\"#0d0887\"],[0.1111111111111111,\"#46039f\"],[0.2222222222222222,\"#7201a8\"],[0.3333333333333333,\"#9c179e\"],[0.4444444444444444,\"#bd3786\"],[0.5555555555555556,\"#d8576b\"],[0.6666666666666666,\"#ed7953\"],[0.7777777777777778,\"#fb9f3a\"],[0.8888888888888888,\"#fdca26\"],[1.0,\"#f0f921\"]],\"diverging\":[[0,\"#8e0152\"],[0.1,\"#c51b7d\"],[0.2,\"#de77ae\"],[0.3,\"#f1b6da\"],[0.4,\"#fde0ef\"],[0.5,\"#f7f7f7\"],[0.6,\"#e6f5d0\"],[0.7,\"#b8e186\"],[0.8,\"#7fbc41\"],[0.9,\"#4d9221\"],[1,\"#276419\"]]},\"xaxis\":{\"gridcolor\":\"white\",\"linecolor\":\"white\",\"ticks\":\"\",\"title\":{\"standoff\":15},\"zerolinecolor\":\"white\",\"automargin\":true,\"zerolinewidth\":2},\"yaxis\":{\"gridcolor\":\"white\",\"linecolor\":\"white\",\"ticks\":\"\",\"title\":{\"standoff\":15},\"zerolinecolor\":\"white\",\"automargin\":true,\"zerolinewidth\":2},\"scene\":{\"xaxis\":{\"backgroundcolor\":\"#E5ECF6\",\"gridcolor\":\"white\",\"linecolor\":\"white\",\"showbackground\":true,\"ticks\":\"\",\"zerolinecolor\":\"white\",\"gridwidth\":2},\"yaxis\":{\"backgroundcolor\":\"#E5ECF6\",\"gridcolor\":\"white\",\"linecolor\":\"white\",\"showbackground\":true,\"ticks\":\"\",\"zerolinecolor\":\"white\",\"gridwidth\":2},\"zaxis\":{\"backgroundcolor\":\"#E5ECF6\",\"gridcolor\":\"white\",\"linecolor\":\"white\",\"showbackground\":true,\"ticks\":\"\",\"zerolinecolor\":\"white\",\"gridwidth\":2}},\"shapedefaults\":{\"line\":{\"color\":\"#2a3f5f\"}},\"annotationdefaults\":{\"arrowcolor\":\"#2a3f5f\",\"arrowhead\":0,\"arrowwidth\":1},\"geo\":{\"bgcolor\":\"white\",\"landcolor\":\"#E5ECF6\",\"subunitcolor\":\"white\",\"showland\":true,\"showlakes\":true,\"lakecolor\":\"white\"},\"title\":{\"x\":0.05},\"mapbox\":{\"style\":\"light\"}}},\"title\":{\"text\":\"3D Landmarks for Expression\"},\"scene\":{\"xaxis\":{\"title\":{\"text\":\"X\"}},\"yaxis\":{\"title\":{\"text\":\"Y\"}},\"zaxis\":{\"title\":{\"text\":\"Z\"}}}},                        {\"responsive\": true}                    ).then(function(){\n                            \nvar gd = document.getElementById('ccd60b46-10f3-4fdc-a981-f85158e9053a');\nvar x = new MutationObserver(function (mutations, observer) {{\n        var display = window.getComputedStyle(gd).display;\n        if (!display || display === 'none') {{\n            console.log([gd, 'removed!']);\n            Plotly.purge(gd);\n            observer.disconnect();\n        }}\n}});\n\n// Listen for the removal of the full notebook cells\nvar notebookContainer = gd.closest('#notebook-container');\nif (notebookContainer) {{\n    x.observe(notebookContainer, {childList: true});\n}}\n\n// Listen for the clearing of the current output cell\nvar outputEl = gd.closest('.output');\nif (outputEl) {{\n    x.observe(outputEl, {childList: true});\n}}\n\n                        })                };                });            </script>        </div>"
     },
     "metadata": {},
     "output_type": "display_data"
    }
   ],
   "source": [
    "import plotly.graph_objects as go\n",
    "selected_node = train_data[0]\n",
    "\n",
    "# Create an empty figure\n",
    "# fig = go.Figure()\n",
    "\n",
    "x_vals = [value[0] for value in selected_node.x]\n",
    "y_vals = [value[1] for value in selected_node.x]\n",
    "z_vals = [value[2] for value in selected_node.x]\n",
    "weights = explanations[0].node_mask.numpy()\n",
    "normalized_weights = (weights - np.min(weights)) / (np.max(weights) - np.min(weights))\n",
    "\n",
    "fig = go.Figure(go.Scatter3d(\n",
    "    x=x_vals, y=y_vals, z=z_vals,\n",
    "    mode='markers',\n",
    "    marker=dict(\n",
    "        size=5,\n",
    "        opacity=0.8,\n",
    "        color=weights,\n",
    "        colorscale='Plasma',\n",
    "        colorbar=dict(title='Weights')\n",
    "    )\n",
    "))\n",
    "\n",
    "# Update layout for better visualization\n",
    "fig.update_layout(\n",
    "    title=f'3D Landmarks for Expression',\n",
    "    scene=dict(xaxis_title='X', yaxis_title='Y', zaxis_title='Z'),\n",
    ")\n",
    "\n",
    "# Show the plot\n",
    "fig.show()"
   ],
   "metadata": {
    "collapsed": false
   }
  },
  {
   "cell_type": "code",
   "execution_count": 49,
   "outputs": [
    {
     "data": {
      "text/plain": "array([[0.36171713, 0.42126903, 0.38778326],\n       [0.40501258, 0.3651381 , 0.36638656],\n       [0.39490736, 0.6432982 , 0.35154366],\n       ...,\n       [0.32848358, 0.39492783, 0.42550403],\n       [0.40028653, 0.37470815, 0.40127707],\n       [0.3462924 , 0.4146703 , 0.44567555]], dtype=float32)"
     },
     "execution_count": 49,
     "metadata": {},
     "output_type": "execute_result"
    }
   ],
   "source": [
    "normalized_weights"
   ],
   "metadata": {
    "collapsed": false
   }
  },
  {
   "cell_type": "code",
   "execution_count": 51,
   "outputs": [
    {
     "data": {
      "text/plain": "1.0"
     },
     "execution_count": 51,
     "metadata": {},
     "output_type": "execute_result"
    }
   ],
   "source": [
    "np.max(normalized_weights)\n"
   ],
   "metadata": {
    "collapsed": false
   }
  },
  {
   "cell_type": "code",
   "execution_count": null,
   "outputs": [],
   "source": [],
   "metadata": {
    "collapsed": false
   }
  }
 ],
 "metadata": {
  "kernelspec": {
   "display_name": "Python 3",
   "language": "python",
   "name": "python3"
  },
  "language_info": {
   "codemirror_mode": {
    "name": "ipython",
    "version": 2
   },
   "file_extension": ".py",
   "mimetype": "text/x-python",
   "name": "python",
   "nbconvert_exporter": "python",
   "pygments_lexer": "ipython2",
   "version": "2.7.6"
  }
 },
 "nbformat": 4,
 "nbformat_minor": 5
}
